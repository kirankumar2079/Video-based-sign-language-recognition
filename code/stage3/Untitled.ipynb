{
 "cells": [
  {
   "cell_type": "code",
   "execution_count": 1,
   "id": "00b716a9",
   "metadata": {},
   "outputs": [],
   "source": [
    "import cv2\n",
    "import numpy as np\n",
    "import os\n",
    "from matplotlib import pyplot as plt\n",
    "import time\n",
    "import mediapipe as mp"
   ]
  },
  {
   "cell_type": "code",
   "execution_count": null,
   "id": "aa5ed871",
   "metadata": {},
   "outputs": [],
   "source": []
  },
  {
   "cell_type": "code",
   "execution_count": 2,
   "id": "6c462502",
   "metadata": {},
   "outputs": [],
   "source": [
    "mp_holistic = mp.solutions.holistic # Holistic model\n",
    "mp_drawing = mp.solutions.drawing_utils # Drawing utilities"
   ]
  },
  {
   "cell_type": "code",
   "execution_count": 3,
   "id": "be0f771b",
   "metadata": {},
   "outputs": [],
   "source": [
    "def mediapipe_detection(image, model):\n",
    "    image = cv2.cvtColor(image, cv2.COLOR_BGR2RGB) \n",
    "    image.flags.writeable = False                  \n",
    "    results = model.process(image)                 \n",
    "    image.flags.writeable = True                    \n",
    "    image = cv2.cvtColor(image, cv2.COLOR_RGB2BGR) \n",
    "    return image, results"
   ]
  },
  {
   "cell_type": "code",
   "execution_count": 4,
   "id": "cfff1d63",
   "metadata": {},
   "outputs": [],
   "source": [
    "def draw_landmarks(image, results):\n",
    "    mp_drawing.draw_landmarks(image, results.face_landmarks, mp_holistic.FACEMESH_TESSELATION) \n",
    "    mp_drawing.draw_landmarks(image, results.pose_landmarks, mp_holistic.POSE_CONNECTIONS) \n",
    "    mp_drawing.draw_landmarks(image, results.left_hand_landmarks, mp_holistic.HAND_CONNECTIONS) \n",
    "    mp_drawing.draw_landmarks(image, results.right_hand_landmarks, mp_holistic.HAND_CONNECTIONS)"
   ]
  },
  {
   "cell_type": "code",
   "execution_count": 5,
   "id": "feb8c523",
   "metadata": {},
   "outputs": [],
   "source": [
    "def draw_styled_landmarks(image, results):\n",
    "    # Draw face connections\n",
    "    mp_drawing.draw_landmarks(image, results.face_landmarks, mp_holistic.FACEMESH_TESSELATION, \n",
    "                             mp_drawing.DrawingSpec(color=(80,110,10), thickness=1, circle_radius=1), \n",
    "                             mp_drawing.DrawingSpec(color=(80,256,121), thickness=1, circle_radius=1)\n",
    "                             ) \n",
    "    # Draw pose connections\n",
    "    mp_drawing.draw_landmarks(image, results.pose_landmarks, mp_holistic.POSE_CONNECTIONS,\n",
    "                             mp_drawing.DrawingSpec(color=(80,22,10), thickness=1, circle_radius=1), \n",
    "                             mp_drawing.DrawingSpec(color=(80,44,121), thickness=1, circle_radius=1)\n",
    "                             ) \n",
    "    # Draw left hand connections\n",
    "    mp_drawing.draw_landmarks(image, results.left_hand_landmarks, mp_holistic.HAND_CONNECTIONS, \n",
    "                             mp_drawing.DrawingSpec(color=(121,22,76), thickness=1, circle_radius=1), \n",
    "                             mp_drawing.DrawingSpec(color=(121,44,250), thickness=1, circle_radius=1)\n",
    "                             ) \n",
    "    # Draw right hand connections  \n",
    "    mp_drawing.draw_landmarks(image, results.right_hand_landmarks, mp_holistic.HAND_CONNECTIONS, \n",
    "                             mp_drawing.DrawingSpec(color=(245,117,66), thickness=1, circle_radius=1), \n",
    "                             mp_drawing.DrawingSpec(color=(245,66,230), thickness=1, circle_radius=1)\n",
    "                             )"
   ]
  },
  {
   "cell_type": "code",
   "execution_count": 6,
   "id": "71655de9",
   "metadata": {},
   "outputs": [
    {
     "name": "stdout",
     "output_type": "stream",
     "text": [
      "<class 'mediapipe.python.solution_base.SolutionOutputs'>\n",
      "<class 'mediapipe.python.solution_base.SolutionOutputs'>\n",
      "<class 'mediapipe.python.solution_base.SolutionOutputs'>\n",
      "<class 'mediapipe.python.solution_base.SolutionOutputs'>\n",
      "<class 'mediapipe.python.solution_base.SolutionOutputs'>\n",
      "<class 'mediapipe.python.solution_base.SolutionOutputs'>\n",
      "<class 'mediapipe.python.solution_base.SolutionOutputs'>\n",
      "<class 'mediapipe.python.solution_base.SolutionOutputs'>\n",
      "<class 'mediapipe.python.solution_base.SolutionOutputs'>\n",
      "<class 'mediapipe.python.solution_base.SolutionOutputs'>\n",
      "<class 'mediapipe.python.solution_base.SolutionOutputs'>\n",
      "<class 'mediapipe.python.solution_base.SolutionOutputs'>\n",
      "<class 'mediapipe.python.solution_base.SolutionOutputs'>\n",
      "<class 'mediapipe.python.solution_base.SolutionOutputs'>\n",
      "<class 'mediapipe.python.solution_base.SolutionOutputs'>\n",
      "<class 'mediapipe.python.solution_base.SolutionOutputs'>\n",
      "<class 'mediapipe.python.solution_base.SolutionOutputs'>\n",
      "<class 'mediapipe.python.solution_base.SolutionOutputs'>\n",
      "<class 'mediapipe.python.solution_base.SolutionOutputs'>\n",
      "<class 'mediapipe.python.solution_base.SolutionOutputs'>\n",
      "<class 'mediapipe.python.solution_base.SolutionOutputs'>\n",
      "<class 'mediapipe.python.solution_base.SolutionOutputs'>\n",
      "<class 'mediapipe.python.solution_base.SolutionOutputs'>\n",
      "<class 'mediapipe.python.solution_base.SolutionOutputs'>\n",
      "<class 'mediapipe.python.solution_base.SolutionOutputs'>\n",
      "<class 'mediapipe.python.solution_base.SolutionOutputs'>\n",
      "<class 'mediapipe.python.solution_base.SolutionOutputs'>\n",
      "<class 'mediapipe.python.solution_base.SolutionOutputs'>\n",
      "<class 'mediapipe.python.solution_base.SolutionOutputs'>\n",
      "<class 'mediapipe.python.solution_base.SolutionOutputs'>\n",
      "<class 'mediapipe.python.solution_base.SolutionOutputs'>\n",
      "<class 'mediapipe.python.solution_base.SolutionOutputs'>\n",
      "<class 'mediapipe.python.solution_base.SolutionOutputs'>\n",
      "<class 'mediapipe.python.solution_base.SolutionOutputs'>\n",
      "<class 'mediapipe.python.solution_base.SolutionOutputs'>\n",
      "<class 'mediapipe.python.solution_base.SolutionOutputs'>\n",
      "<class 'mediapipe.python.solution_base.SolutionOutputs'>\n",
      "<class 'mediapipe.python.solution_base.SolutionOutputs'>\n",
      "<class 'mediapipe.python.solution_base.SolutionOutputs'>\n",
      "<class 'mediapipe.python.solution_base.SolutionOutputs'>\n",
      "<class 'mediapipe.python.solution_base.SolutionOutputs'>\n",
      "<class 'mediapipe.python.solution_base.SolutionOutputs'>\n",
      "<class 'mediapipe.python.solution_base.SolutionOutputs'>\n",
      "<class 'mediapipe.python.solution_base.SolutionOutputs'>\n",
      "<class 'mediapipe.python.solution_base.SolutionOutputs'>\n",
      "<class 'mediapipe.python.solution_base.SolutionOutputs'>\n",
      "<class 'mediapipe.python.solution_base.SolutionOutputs'>\n",
      "<class 'mediapipe.python.solution_base.SolutionOutputs'>\n",
      "<class 'mediapipe.python.solution_base.SolutionOutputs'>\n",
      "<class 'mediapipe.python.solution_base.SolutionOutputs'>\n",
      "<class 'mediapipe.python.solution_base.SolutionOutputs'>\n",
      "<class 'mediapipe.python.solution_base.SolutionOutputs'>\n",
      "<class 'mediapipe.python.solution_base.SolutionOutputs'>\n",
      "<class 'mediapipe.python.solution_base.SolutionOutputs'>\n",
      "<class 'mediapipe.python.solution_base.SolutionOutputs'>\n",
      "<class 'mediapipe.python.solution_base.SolutionOutputs'>\n",
      "<class 'mediapipe.python.solution_base.SolutionOutputs'>\n",
      "<class 'mediapipe.python.solution_base.SolutionOutputs'>\n",
      "<class 'mediapipe.python.solution_base.SolutionOutputs'>\n",
      "<class 'mediapipe.python.solution_base.SolutionOutputs'>\n",
      "<class 'mediapipe.python.solution_base.SolutionOutputs'>\n",
      "<class 'mediapipe.python.solution_base.SolutionOutputs'>\n",
      "<class 'mediapipe.python.solution_base.SolutionOutputs'>\n",
      "<class 'mediapipe.python.solution_base.SolutionOutputs'>\n",
      "<class 'mediapipe.python.solution_base.SolutionOutputs'>\n",
      "<class 'mediapipe.python.solution_base.SolutionOutputs'>\n",
      "<class 'mediapipe.python.solution_base.SolutionOutputs'>\n",
      "<class 'mediapipe.python.solution_base.SolutionOutputs'>\n",
      "<class 'mediapipe.python.solution_base.SolutionOutputs'>\n",
      "<class 'mediapipe.python.solution_base.SolutionOutputs'>\n",
      "<class 'mediapipe.python.solution_base.SolutionOutputs'>\n",
      "<class 'mediapipe.python.solution_base.SolutionOutputs'>\n",
      "<class 'mediapipe.python.solution_base.SolutionOutputs'>\n",
      "<class 'mediapipe.python.solution_base.SolutionOutputs'>\n",
      "<class 'mediapipe.python.solution_base.SolutionOutputs'>\n",
      "<class 'mediapipe.python.solution_base.SolutionOutputs'>\n",
      "<class 'mediapipe.python.solution_base.SolutionOutputs'>\n",
      "<class 'mediapipe.python.solution_base.SolutionOutputs'>\n",
      "<class 'mediapipe.python.solution_base.SolutionOutputs'>\n",
      "<class 'mediapipe.python.solution_base.SolutionOutputs'>\n",
      "<class 'mediapipe.python.solution_base.SolutionOutputs'>\n",
      "<class 'mediapipe.python.solution_base.SolutionOutputs'>\n",
      "<class 'mediapipe.python.solution_base.SolutionOutputs'>\n",
      "<class 'mediapipe.python.solution_base.SolutionOutputs'>\n",
      "<class 'mediapipe.python.solution_base.SolutionOutputs'>\n",
      "<class 'mediapipe.python.solution_base.SolutionOutputs'>\n",
      "<class 'mediapipe.python.solution_base.SolutionOutputs'>\n",
      "<class 'mediapipe.python.solution_base.SolutionOutputs'>\n",
      "<class 'mediapipe.python.solution_base.SolutionOutputs'>\n",
      "<class 'mediapipe.python.solution_base.SolutionOutputs'>\n",
      "<class 'mediapipe.python.solution_base.SolutionOutputs'>\n",
      "<class 'mediapipe.python.solution_base.SolutionOutputs'>\n",
      "<class 'mediapipe.python.solution_base.SolutionOutputs'>\n",
      "<class 'mediapipe.python.solution_base.SolutionOutputs'>\n",
      "<class 'mediapipe.python.solution_base.SolutionOutputs'>\n",
      "<class 'mediapipe.python.solution_base.SolutionOutputs'>\n",
      "<class 'mediapipe.python.solution_base.SolutionOutputs'>\n",
      "<class 'mediapipe.python.solution_base.SolutionOutputs'>\n",
      "<class 'mediapipe.python.solution_base.SolutionOutputs'>\n",
      "<class 'mediapipe.python.solution_base.SolutionOutputs'>\n",
      "<class 'mediapipe.python.solution_base.SolutionOutputs'>\n",
      "<class 'mediapipe.python.solution_base.SolutionOutputs'>\n",
      "<class 'mediapipe.python.solution_base.SolutionOutputs'>\n",
      "<class 'mediapipe.python.solution_base.SolutionOutputs'>\n",
      "<class 'mediapipe.python.solution_base.SolutionOutputs'>\n",
      "<class 'mediapipe.python.solution_base.SolutionOutputs'>\n",
      "<class 'mediapipe.python.solution_base.SolutionOutputs'>\n",
      "<class 'mediapipe.python.solution_base.SolutionOutputs'>\n",
      "<class 'mediapipe.python.solution_base.SolutionOutputs'>\n",
      "<class 'mediapipe.python.solution_base.SolutionOutputs'>\n",
      "<class 'mediapipe.python.solution_base.SolutionOutputs'>\n",
      "<class 'mediapipe.python.solution_base.SolutionOutputs'>\n",
      "<class 'mediapipe.python.solution_base.SolutionOutputs'>\n",
      "<class 'mediapipe.python.solution_base.SolutionOutputs'>\n",
      "<class 'mediapipe.python.solution_base.SolutionOutputs'>\n",
      "<class 'mediapipe.python.solution_base.SolutionOutputs'>\n",
      "<class 'mediapipe.python.solution_base.SolutionOutputs'>\n",
      "<class 'mediapipe.python.solution_base.SolutionOutputs'>\n",
      "<class 'mediapipe.python.solution_base.SolutionOutputs'>\n",
      "<class 'mediapipe.python.solution_base.SolutionOutputs'>\n",
      "<class 'mediapipe.python.solution_base.SolutionOutputs'>\n",
      "<class 'mediapipe.python.solution_base.SolutionOutputs'>\n",
      "<class 'mediapipe.python.solution_base.SolutionOutputs'>\n",
      "<class 'mediapipe.python.solution_base.SolutionOutputs'>\n",
      "<class 'mediapipe.python.solution_base.SolutionOutputs'>\n",
      "<class 'mediapipe.python.solution_base.SolutionOutputs'>\n",
      "<class 'mediapipe.python.solution_base.SolutionOutputs'>\n",
      "<class 'mediapipe.python.solution_base.SolutionOutputs'>\n",
      "<class 'mediapipe.python.solution_base.SolutionOutputs'>\n",
      "<class 'mediapipe.python.solution_base.SolutionOutputs'>\n",
      "<class 'mediapipe.python.solution_base.SolutionOutputs'>\n",
      "<class 'mediapipe.python.solution_base.SolutionOutputs'>\n",
      "<class 'mediapipe.python.solution_base.SolutionOutputs'>\n",
      "<class 'mediapipe.python.solution_base.SolutionOutputs'>\n",
      "<class 'mediapipe.python.solution_base.SolutionOutputs'>\n",
      "<class 'mediapipe.python.solution_base.SolutionOutputs'>\n",
      "<class 'mediapipe.python.solution_base.SolutionOutputs'>\n",
      "<class 'mediapipe.python.solution_base.SolutionOutputs'>\n",
      "<class 'mediapipe.python.solution_base.SolutionOutputs'>\n"
     ]
    }
   ],
   "source": [
    "cap = cv2.VideoCapture(0)\n",
    "# Set mediapipe model \n",
    "with mp_holistic.Holistic(min_detection_confidence=0.5, min_tracking_confidence=0.5) as holistic:\n",
    "    while cap.isOpened():\n",
    "\n",
    "        # Read feed\n",
    "        ret, frame = cap.read()\n",
    "\n",
    "        # Make detections\n",
    "        image, results = mediapipe_detection(frame, holistic)\n",
    "        print(results)\n",
    "        # Draw landmarks\n",
    "        draw_styled_landmarks(image, results)\n",
    "\n",
    "        # Show to screen\n",
    "        cv2.imshow('OpenCV Feed', image)\n",
    "\n",
    "        # Break gracefully\n",
    "        if cv2.waitKey(10) & 0xFF == ord('q'):\n",
    "            break\n",
    "    cap.release()\n",
    "    cv2.destroyAllWindows()"
   ]
  },
  {
   "cell_type": "code",
   "execution_count": 7,
   "id": "1bb9a5fa",
   "metadata": {},
   "outputs": [],
   "source": [
    "draw_landmarks(frame, results)\n"
   ]
  },
  {
   "cell_type": "code",
   "execution_count": 8,
   "id": "77af2498",
   "metadata": {},
   "outputs": [
    {
     "data": {
      "text/plain": [
       "<matplotlib.image.AxesImage at 0x27f6283c1c0>"
      ]
     },
     "execution_count": 8,
     "metadata": {},
     "output_type": "execute_result"
    },
    {
     "data": {
      "image/png": "[encoded data removed]",
      "text/plain": [
       "<Figure size 432x288 with 1 Axes>"
      ]
     },
     "metadata": {
      "needs_background": "light"
     },
     "output_type": "display_data"
    }
   ],
   "source": [
    "plt.imshow(cv2.cvtColor(frame, cv2.COLOR_BGR2RGB))"
   ]
  },
  {
   "cell_type": "code",
   "execution_count": 9,
   "id": "bc80f37c",
   "metadata": {},
   "outputs": [
    {
     "ename": "AttributeError",
     "evalue": "'NoneType' object has no attribute 'landmark'",
     "output_type": "error",
     "traceback": [
      "\u001b[1;31m---------------------------------------------------------------------------\u001b[0m",
      "\u001b[1;31mAttributeError\u001b[0m                            Traceback (most recent call last)",
      "\u001b[1;32m~\\AppData\\Local\\Temp/ipykernel_16088/1858948676.py\u001b[0m in \u001b[0;36m<module>\u001b[1;34m\u001b[0m\n\u001b[1;32m----> 1\u001b[1;33m \u001b[0mlen\u001b[0m\u001b[1;33m(\u001b[0m\u001b[0mresults\u001b[0m\u001b[1;33m.\u001b[0m\u001b[0mleft_hand_landmarks\u001b[0m\u001b[1;33m.\u001b[0m\u001b[0mlandmark\u001b[0m\u001b[1;33m)\u001b[0m\u001b[1;33m\u001b[0m\u001b[1;33m\u001b[0m\u001b[0m\n\u001b[0m",
      "\u001b[1;31mAttributeError\u001b[0m: 'NoneType' object has no attribute 'landmark'"
     ]
    }
   ],
   "source": [
    "len(results.left_hand_landmarks.landmark)"
   ]
  },
  {
   "cell_type": "code",
   "execution_count": 10,
   "id": "a0970d1e",
   "metadata": {},
   "outputs": [],
   "source": [
    "pose = []\n",
    "for res in results.pose_landmarks.landmark:\n",
    "    test = np.array([res.x, res.y, res.z, res.visibility])\n",
    "    pose.append(test)"
   ]
  },
  {
   "cell_type": "code",
   "execution_count": 11,
   "id": "6067eb15",
   "metadata": {},
   "outputs": [],
   "source": [
    "pose = np.array([[res.x, res.y, res.z, res.visibility] for res in results.pose_landmarks.landmark]).flatten() if results.pose_landmarks else np.zeros(132)\n",
    "face = np.array([[res.x, res.y, res.z] for res in results.face_landmarks.landmark]).flatten() if results.face_landmarks else np.zeros(1404)\n",
    "lh = np.array([[res.x, res.y, res.z] for res in results.left_hand_landmarks.landmark]).flatten() if results.left_hand_landmarks else np.zeros(21*3)\n",
    "rh = np.array([[res.x, res.y, res.z] for res in results.right_hand_landmarks.landmark]).flatten() if results.right_hand_landmarks else np.zeros(21*3)"
   ]
  },
  {
   "cell_type": "code",
   "execution_count": 12,
   "id": "9061b303",
   "metadata": {},
   "outputs": [],
   "source": [
    "face = np.array([[res.x, res.y, res.z] for res in results.face_landmarks.landmark]).flatten() if results.face_landmarks else np.zeros(1404)"
   ]
  },
  {
   "cell_type": "code",
   "execution_count": 13,
   "id": "4150b7ca",
   "metadata": {},
   "outputs": [],
   "source": [
    "def extract_keypoints(results):\n",
    "    pose = np.array([[res.x, res.y, res.z, res.visibility] for res in results.pose_landmarks.landmark]).flatten() if results.pose_landmarks else np.zeros(33*4)\n",
    "    face = np.array([[res.x, res.y, res.z] for res in results.face_landmarks.landmark]).flatten() if results.face_landmarks else np.zeros(468*3)\n",
    "    lh = np.array([[res.x, res.y, res.z] for res in results.left_hand_landmarks.landmark]).flatten() if results.left_hand_landmarks else np.zeros(21*3)\n",
    "    rh = np.array([[res.x, res.y, res.z] for res in results.right_hand_landmarks.landmark]).flatten() if results.right_hand_landmarks else np.zeros(21*3)\n",
    "    return np.concatenate([pose, face, lh, rh])"
   ]
  },
  {
   "cell_type": "code",
   "execution_count": 14,
   "id": "45d57b58",
   "metadata": {},
   "outputs": [],
   "source": [
    "result_test = extract_keypoints(results)"
   ]
  },
  {
   "cell_type": "code",
   "execution_count": 15,
   "id": "ed3db1b7",
   "metadata": {},
   "outputs": [
    {
     "data": {
      "text/plain": [
       "array([ 0.44775882,  0.49768484, -0.5535689 , ...,  0.        ,\n",
       "        0.        ,  0.        ])"
      ]
     },
     "execution_count": 15,
     "metadata": {},
     "output_type": "execute_result"
    }
   ],
   "source": [
    "result_test"
   ]
  },
  {
   "cell_type": "code",
   "execution_count": 16,
   "id": "5f474791",
   "metadata": {},
   "outputs": [],
   "source": [
    "np.save('0', result_test)"
   ]
  },
  {
   "cell_type": "code",
   "execution_count": 17,
   "id": "fac05cdc",
   "metadata": {},
   "outputs": [
    {
     "data": {
      "text/plain": [
       "array([ 0.44775882,  0.49768484, -0.5535689 , ...,  0.        ,\n",
       "        0.        ,  0.        ])"
      ]
     },
     "execution_count": 17,
     "metadata": {},
     "output_type": "execute_result"
    }
   ],
   "source": [
    "np.load('0.npy')"
   ]
  },
  {
   "cell_type": "markdown",
   "id": "5688e4dc",
   "metadata": {},
   "source": [
    "# Data folder\n"
   ]
  },
  {
   "cell_type": "code",
   "execution_count": 18,
   "id": "f0cf8fc0",
   "metadata": {},
   "outputs": [
    {
     "name": "stdout",
     "output_type": "stream",
     "text": [
      "C:\\Users\\azhar\\Desktop\\project 3c\\src\\stage2\\Sign_Data\n"
     ]
    }
   ],
   "source": [
    "\n",
    "DATA_PATH = os.path.join(r'C:\\Users\\azhar\\Desktop\\project 3c\\src\\stage2\\Sign_Data') \n",
    "\n",
    "# actions = np.array(['bye', 'good', 'hello' , 'iam' , 'name' , 'thanks'])\n",
    "actions = [\"hello\",'thanks','good']\n",
    "\n",
    "no_sequences = 30\n",
    "\n",
    "sequence_length = 30\n",
    "\n",
    "start_folder = 0\n",
    "print(DATA_PATH)"
   ]
  },
  {
   "cell_type": "code",
   "execution_count": null,
   "id": "772d8bd9",
   "metadata": {},
   "outputs": [],
   "source": []
  },
  {
   "cell_type": "code",
   "execution_count": null,
   "id": "a5b4a7f7",
   "metadata": {},
   "outputs": [],
   "source": []
  },
  {
   "cell_type": "markdown",
   "id": "cf33c99c",
   "metadata": {},
   "source": [
    "# video data\n"
   ]
  },
  {
   "cell_type": "code",
   "execution_count": 53,
   "id": "c2bad672",
   "metadata": {},
   "outputs": [],
   "source": [
    "cap = cv2.VideoCapture(0)\n",
    "# Set mediapipe model \n",
    "with mp_holistic.Holistic(min_detection_confidence=0.5, min_tracking_confidence=0.5) as holistic:\n",
    "    \n",
    "    # NEW LOOP\n",
    "    # Loop through actions\n",
    "    for action in actions:\n",
    "        # Loop through sequences aka videos\n",
    "        for sequence in range(start_folder, start_folder+no_sequences):\n",
    "            # Loop through video length aka sequence length\n",
    "            for frame_num in range(sequence_length):\n",
    "\n",
    "                # Read feed\n",
    "                ret, frame = cap.read()\n",
    "\n",
    "                # Make detections\n",
    "                image, results = mediapipe_detection(frame, holistic)\n",
    "\n",
    "                # Draw landmarks\n",
    "                draw_styled_landmarks(image, results)\n",
    "                \n",
    "                # NEW Apply wait logic\n",
    "                if frame_num == 0: \n",
    "                    cv2.putText(image, 'STARTING COLLECTION', (120,200), \n",
    "                               cv2.FONT_HERSHEY_SIMPLEX, 1, (0,255, 0), 4, cv2.LINE_AA)\n",
    "                    cv2.putText(image, 'Collecting frames for {} Video Number {}'.format(action, sequence), (15,12), \n",
    "                               cv2.FONT_HERSHEY_SIMPLEX, 1, (0, 0, 255), 1, cv2.LINE_AA)\n",
    "                    # Show to screen\n",
    "                    cv2.imshow('OpenCV Feed', image)\n",
    "                    cv2.waitKey(1000)\n",
    "                else: \n",
    "                    cv2.putText(image, 'Collecting frames for {} Video Number {}'.format(action, sequence), (15,12), \n",
    "                               cv2.FONT_HERSHEY_SIMPLEX, 0.5, (0, 0, 255), 1, cv2.LINE_AA)\n",
    "                    # Show to screen\n",
    "                    cv2.imshow('OpenCV Feed', image)\n",
    "                \n",
    "                # NEW Export keypoints\n",
    "                keypoints = extract_keypoints(results)\n",
    "                npy_path = os.path.join(DATA_PATH, action, str(sequence), str(frame_num))\n",
    "                np.save(npy_path, keypoints)\n",
    "\n",
    "                # Break gracefully\n",
    "                if cv2.waitKey(10) & 0xFF == ord('q'):\n",
    "                    break\n",
    "                    \n",
    "    cap.release()\n",
    "    cv2.destroyAllWindows()"
   ]
  },
  {
   "cell_type": "code",
   "execution_count": 54,
   "id": "e867679b",
   "metadata": {},
   "outputs": [
    {
     "name": "stdout",
     "output_type": "stream",
     "text": [
      "C:\\Users\\azhar\\Desktop\\project 3c\\src\\stage2\\Sign_Data\\hello\\1\\0\n"
     ]
    }
   ],
   "source": [
    "import os\n",
    "npy_path = os.path.join(DATA_PATH, 'hello', str(1), str(0))\n",
    "print(npy_path)"
   ]
  },
  {
   "cell_type": "code",
   "execution_count": 55,
   "id": "0bce323d",
   "metadata": {},
   "outputs": [],
   "source": [
    "# cap= cv2.VideoCapture()\n",
    "# with mp_holistic.Holistic(min_detection_confidence=0.5, min_tracking_confidence=0.5) as holistic:\n",
    "    \n",
    "#     for action in actions:\n",
    "#         for sequence in range(0,30):\n",
    "#             or frame_num in range(sequence_length):\n",
    "\n",
    "#                 # Read feed\n",
    "#                 ret, frame = cap.read()\n",
    "\n",
    "#                 # Make detections\n",
    "#                 image, results = mediapipe_detection(frame, holistic)\n",
    "\n",
    "#                 # Draw landmarks\n",
    "#                 draw_styled_landmarks(image, results)\n",
    "                \n",
    "#                 # NEW Apply wait logic\n",
    "#                 if frame_num == 0: \n",
    "#                     cv2.putText(image, 'STARTING COLLECTION', (120,200), \n",
    "#                                cv2.FONT_HERSHEY_SIMPLEX, 1, (0,255, 0), 4, cv2.LINE_AA)\n",
    "#                     cv2.putText(image, 'Collecting frames for {} Video Number {}'.format(action, sequence), (15,12), \n",
    "#                                cv2.FONT_HERSHEY_SIMPLEX, 0.5, (0, 0, 255), 1, cv2.LINE_AA)\n",
    "#                     # Show to screen\n",
    "#                     cv2.imshow('OpenCV Feed', image)\n",
    "#                     cv2.waitKey(500)\n",
    "#                 else: \n",
    "#                     cv2.putText(image, 'Collecting frames for {} Video Number {}'.format(action, sequence), (15,12), \n",
    "#                                cv2.FONT_HERSHEY_SIMPLEX, 0.5, (0, 0, 255), 1, cv2.LINE_AA)\n",
    "#                     # Show to screen\n",
    "#                     cv2.imshow('OpenCV Feed', image)\n",
    "                    \n",
    "#                 keypoints = extract_keypoints(results)\n",
    "#                 npy_path = os.path.join(DATA_PATH, action, str(sequence), str(frame_num))\n",
    "#                 np.save(npy_path, keypoints)"
   ]
  },
  {
   "cell_type": "code",
   "execution_count": 64,
   "id": "d3311642",
   "metadata": {},
   "outputs": [],
   "source": []
  },
  {
   "cell_type": "code",
   "execution_count": 19,
   "id": "c83f7fab",
   "metadata": {},
   "outputs": [],
   "source": [
    "from sklearn.model_selection import train_test_split\n",
    "from tensorflow.keras.utils import to_categorical"
   ]
  },
  {
   "cell_type": "code",
   "execution_count": 20,
   "id": "57b12e49",
   "metadata": {},
   "outputs": [],
   "source": [
    "label_map = {label:num for num, label in enumerate(actions)}"
   ]
  },
  {
   "cell_type": "code",
   "execution_count": 21,
   "id": "bd0e6067",
   "metadata": {},
   "outputs": [
    {
     "data": {
      "text/plain": [
       "{'hello': 0, 'thanks': 1, 'good': 2}"
      ]
     },
     "execution_count": 21,
     "metadata": {},
     "output_type": "execute_result"
    }
   ],
   "source": [
    "label_map"
   ]
  },
  {
   "cell_type": "code",
   "execution_count": 24,
   "id": "eaebd422",
   "metadata": {},
   "outputs": [],
   "source": [
    "sequences, labels = [], []\n",
    "for action in actions:\n",
    "    for sequence in np.array(os.listdir(os.path.join(DATA_PATH, action))).astype(int):\n",
    "        window = []\n",
    "        for frame_num in range(sequence_length):\n",
    "            res = np.load(os.path.join(DATA_PATH, action, str(sequence), \"{}.npy\".format(frame_num)))\n",
    "            window.append(res)\n",
    "        sequences.append(window)\n",
    "        labels.append(label_map[action])"
   ]
  },
  {
   "cell_type": "code",
   "execution_count": 25,
   "id": "0ab06265",
   "metadata": {},
   "outputs": [
    {
     "data": {
      "text/plain": [
       "(90, 30, 1662)"
      ]
     },
     "execution_count": 25,
     "metadata": {},
     "output_type": "execute_result"
    }
   ],
   "source": [
    "np.array(sequences).shape"
   ]
  },
  {
   "cell_type": "code",
   "execution_count": 26,
   "id": "5fd9344c",
   "metadata": {},
   "outputs": [
    {
     "data": {
      "text/plain": [
       "(90,)"
      ]
     },
     "execution_count": 26,
     "metadata": {},
     "output_type": "execute_result"
    }
   ],
   "source": [
    "np.array(labels).shape"
   ]
  },
  {
   "cell_type": "code",
   "execution_count": 27,
   "id": "8374d46b",
   "metadata": {},
   "outputs": [],
   "source": [
    "X = np.array(sequences)"
   ]
  },
  {
   "cell_type": "code",
   "execution_count": 28,
   "id": "6f917700",
   "metadata": {},
   "outputs": [
    {
     "data": {
      "text/plain": [
       "(90, 30, 1662)"
      ]
     },
     "execution_count": 28,
     "metadata": {},
     "output_type": "execute_result"
    }
   ],
   "source": [
    "X.shape"
   ]
  },
  {
   "cell_type": "code",
   "execution_count": 29,
   "id": "911701e8",
   "metadata": {},
   "outputs": [],
   "source": [
    "y = to_categorical(labels).astype(int)"
   ]
  },
  {
   "cell_type": "code",
   "execution_count": 30,
   "id": "58e1d3d7",
   "metadata": {},
   "outputs": [],
   "source": [
    "X_train, X_test, y_train, y_test = train_test_split(X, y, test_size=0.05)"
   ]
  },
  {
   "cell_type": "code",
   "execution_count": 31,
   "id": "49ef51f6",
   "metadata": {},
   "outputs": [
    {
     "data": {
      "text/plain": [
       "(5, 3)"
      ]
     },
     "execution_count": 31,
     "metadata": {},
     "output_type": "execute_result"
    }
   ],
   "source": [
    "y_test.shape"
   ]
  },
  {
   "cell_type": "code",
   "execution_count": 32,
   "id": "f3136ed6",
   "metadata": {},
   "outputs": [],
   "source": [
    "from tensorflow.keras.models import Sequential\n",
    "from tensorflow.keras.layers import LSTM, Dense\n",
    "from tensorflow.keras.callbacks import TensorBoard"
   ]
  },
  {
   "cell_type": "code",
   "execution_count": 33,
   "id": "98dc7d44",
   "metadata": {},
   "outputs": [],
   "source": [
    "log_dir = os.path.join('Logs')\n",
    "tb_callback = TensorBoard(log_dir=log_dir)"
   ]
  },
  {
   "cell_type": "code",
   "execution_count": 34,
   "id": "7aa76cf5",
   "metadata": {},
   "outputs": [],
   "source": [
    "model = Sequential()\n",
    "model.add(LSTM(64, return_sequences=True, activation='relu', input_shape=(30,1662)))\n",
    "model.add(LSTM(128, return_sequences=True, activation='relu'))\n",
    "model.add(LSTM(64, return_sequences=False, activation='relu'))\n",
    "model.add(Dense(64, activation='relu'))\n",
    "model.add(Dense(32, activation='relu'))\n",
    "model.add(Dense(3, activation='softmax'))"
   ]
  },
  {
   "cell_type": "code",
   "execution_count": 35,
   "id": "90600e5a",
   "metadata": {},
   "outputs": [],
   "source": [
    "model.compile(optimizer='Adam', loss='categorical_crossentropy', metrics=['categorical_accuracy'])"
   ]
  },
  {
   "cell_type": "code",
   "execution_count": 36,
   "id": "74613d3c",
   "metadata": {},
   "outputs": [
    {
     "name": "stdout",
     "output_type": "stream",
     "text": [
      "Model: \"sequential\"\n",
      "_________________________________________________________________\n",
      "Layer (type)                 Output Shape              Param #   \n",
      "=================================================================\n",
      "lstm (LSTM)                  (None, 30, 64)            442112    \n",
      "_________________________________________________________________\n",
      "lstm_1 (LSTM)                (None, 30, 128)           98816     \n",
      "_________________________________________________________________\n",
      "lstm_2 (LSTM)                (None, 64)                49408     \n",
      "_________________________________________________________________\n",
      "dense (Dense)                (None, 64)                4160      \n",
      "_________________________________________________________________\n",
      "dense_1 (Dense)              (None, 32)                2080      \n",
      "_________________________________________________________________\n",
      "dense_2 (Dense)              (None, 3)                 99        \n",
      "=================================================================\n",
      "Total params: 596,675\n",
      "Trainable params: 596,675\n",
      "Non-trainable params: 0\n",
      "_________________________________________________________________\n"
     ]
    }
   ],
   "source": [
    "model.summary()"
   ]
  },
  {
   "cell_type": "code",
   "execution_count": 72,
   "id": "8fd36f8c",
   "metadata": {},
   "outputs": [
    {
     "name": "stdout",
     "output_type": "stream",
     "text": [
      "Epoch 1/200\n",
      "3/3 [==============================] - 3s 196ms/step - loss: 1.2746 - categorical_accuracy: 0.3176\n",
      "Epoch 2/200\n",
      "3/3 [==============================] - 1s 175ms/step - loss: 1.5580 - categorical_accuracy: 0.3294\n",
      "Epoch 3/200\n",
      "3/3 [==============================] - 0s 162ms/step - loss: 1.6686 - categorical_accuracy: 0.2824\n",
      "Epoch 4/200\n",
      "3/3 [==============================] - 1s 208ms/step - loss: 4.3339 - categorical_accuracy: 0.1647\n",
      "Epoch 5/200\n",
      "3/3 [==============================] - 0s 161ms/step - loss: 1.1675 - categorical_accuracy: 0.2471\n",
      "Epoch 6/200\n",
      "3/3 [==============================] - 1s 195ms/step - loss: 1.1378 - categorical_accuracy: 0.2941\n",
      "Epoch 7/200\n",
      "3/3 [==============================] - 0s 169ms/step - loss: 1.0991 - categorical_accuracy: 0.4000\n",
      "Epoch 8/200\n",
      "3/3 [==============================] - 1s 208ms/step - loss: 1.0959 - categorical_accuracy: 0.3529\n",
      "Epoch 9/200\n",
      "3/3 [==============================] - 1s 199ms/step - loss: 1.0987 - categorical_accuracy: 0.3529\n",
      "Epoch 10/200\n",
      "3/3 [==============================] - 1s 180ms/step - loss: 1.0987 - categorical_accuracy: 0.3529\n",
      "Epoch 11/200\n",
      "3/3 [==============================] - 1s 195ms/step - loss: 1.0986 - categorical_accuracy: 0.3529\n",
      "Epoch 12/200\n",
      "3/3 [==============================] - 1s 195ms/step - loss: 1.0984 - categorical_accuracy: 0.3529\n",
      "Epoch 13/200\n",
      "3/3 [==============================] - 0s 163ms/step - loss: 1.0981 - categorical_accuracy: 0.3529\n",
      "Epoch 14/200\n",
      "3/3 [==============================] - 1s 178ms/step - loss: 1.0978 - categorical_accuracy: 0.3529\n",
      "Epoch 15/200\n",
      "3/3 [==============================] - 1s 186ms/step - loss: 1.0975 - categorical_accuracy: 0.3529\n",
      "Epoch 16/200\n",
      "3/3 [==============================] - 1s 184ms/step - loss: 1.0972 - categorical_accuracy: 0.3529\n",
      "Epoch 17/200\n",
      "3/3 [==============================] - 1s 194ms/step - loss: 1.0970 - categorical_accuracy: 0.3529\n",
      "Epoch 18/200\n",
      "3/3 [==============================] - 1s 192ms/step - loss: 1.0969 - categorical_accuracy: 0.3529\n",
      "Epoch 19/200\n",
      "3/3 [==============================] - 0s 163ms/step - loss: 1.0969 - categorical_accuracy: 0.3529\n",
      "Epoch 20/200\n",
      "3/3 [==============================] - 0s 172ms/step - loss: 1.0967 - categorical_accuracy: 0.3529\n",
      "Epoch 21/200\n",
      "3/3 [==============================] - 1s 184ms/step - loss: 1.0966 - categorical_accuracy: 0.3529\n",
      "Epoch 22/200\n",
      "3/3 [==============================] - 1s 187ms/step - loss: 1.0966 - categorical_accuracy: 0.3529\n",
      "Epoch 23/200\n",
      "3/3 [==============================] - 1s 199ms/step - loss: 1.0964 - categorical_accuracy: 0.3529\n",
      "Epoch 24/200\n",
      "3/3 [==============================] - 1s 193ms/step - loss: 1.0963 - categorical_accuracy: 0.3529\n",
      "Epoch 25/200\n",
      "3/3 [==============================] - 1s 180ms/step - loss: 1.0964 - categorical_accuracy: 0.3529\n",
      "Epoch 26/200\n",
      "3/3 [==============================] - 1s 203ms/step - loss: 1.0961 - categorical_accuracy: 0.3529\n",
      "Epoch 27/200\n",
      "3/3 [==============================] - ETA: 0s - loss: 1.0959 - categorical_accuracy: 0.35 - 1s 193ms/step - loss: 1.0959 - categorical_accuracy: 0.3529\n",
      "Epoch 28/200\n",
      "3/3 [==============================] - 1s 202ms/step - loss: 1.0958 - categorical_accuracy: 0.3529\n",
      "Epoch 29/200\n",
      "3/3 [==============================] - 1s 172ms/step - loss: 1.0956 - categorical_accuracy: 0.3529\n",
      "Epoch 30/200\n",
      "3/3 [==============================] - 0s 165ms/step - loss: 1.0956 - categorical_accuracy: 0.3529\n",
      "Epoch 31/200\n",
      "3/3 [==============================] - 1s 188ms/step - loss: 1.0955 - categorical_accuracy: 0.3529\n",
      "Epoch 32/200\n",
      "3/3 [==============================] - 1s 162ms/step - loss: 1.0951 - categorical_accuracy: 0.3529\n",
      "Epoch 33/200\n",
      "3/3 [==============================] - 1s 196ms/step - loss: 1.0950 - categorical_accuracy: 0.3529\n",
      "Epoch 34/200\n",
      "3/3 [==============================] - 1s 182ms/step - loss: 1.0943 - categorical_accuracy: 0.3529\n",
      "Epoch 35/200\n",
      "3/3 [==============================] - 1s 176ms/step - loss: 1.0938 - categorical_accuracy: 0.3529\n",
      "Epoch 36/200\n",
      "3/3 [==============================] - 1s 203ms/step - loss: 1.0931 - categorical_accuracy: 0.3529\n",
      "Epoch 37/200\n",
      "3/3 [==============================] - 1s 172ms/step - loss: 1.0924 - categorical_accuracy: 0.3529\n",
      "Epoch 38/200\n",
      "3/3 [==============================] - 1s 195ms/step - loss: 1.0905 - categorical_accuracy: 0.3529\n",
      "Epoch 39/200\n",
      "3/3 [==============================] - 1s 177ms/step - loss: 1.0883 - categorical_accuracy: 0.3529\n",
      "Epoch 40/200\n",
      "3/3 [==============================] - 1s 180ms/step - loss: 1.0832 - categorical_accuracy: 0.3529\n",
      "Epoch 41/200\n",
      "3/3 [==============================] - 1s 162ms/step - loss: 1.0710 - categorical_accuracy: 0.3529\n",
      "Epoch 42/200\n",
      "3/3 [==============================] - 1s 198ms/step - loss: 1.0323 - categorical_accuracy: 0.3529\n",
      "Epoch 43/200\n",
      "3/3 [==============================] - 1s 180ms/step - loss: 1.0741 - categorical_accuracy: 0.5176\n",
      "Epoch 44/200\n",
      "3/3 [==============================] - 1s 189ms/step - loss: 1.1460 - categorical_accuracy: 0.4706\n",
      "Epoch 45/200\n",
      "3/3 [==============================] - 1s 172ms/step - loss: 1.0972 - categorical_accuracy: 0.3529\n",
      "Epoch 46/200\n",
      "3/3 [==============================] - 1s 178ms/step - loss: 1.0990 - categorical_accuracy: 0.3529\n",
      "Epoch 47/200\n",
      "3/3 [==============================] - 0s 175ms/step - loss: 1.0988 - categorical_accuracy: 0.3529\n",
      "Epoch 48/200\n",
      "3/3 [==============================] - 1s 222ms/step - loss: 1.0971 - categorical_accuracy: 0.3529\n",
      "Epoch 49/200\n",
      "3/3 [==============================] - 1s 185ms/step - loss: 1.0959 - categorical_accuracy: 0.3529\n",
      "Epoch 50/200\n",
      "3/3 [==============================] - 1s 188ms/step - loss: 1.0953 - categorical_accuracy: 0.3412\n",
      "Epoch 51/200\n",
      "3/3 [==============================] - 1s 176ms/step - loss: 1.0934 - categorical_accuracy: 0.3765\n",
      "Epoch 52/200\n",
      "3/3 [==============================] - 1s 161ms/step - loss: 1.0917 - categorical_accuracy: 0.3529\n",
      "Epoch 53/200\n",
      "3/3 [==============================] - 1s 169ms/step - loss: 1.0899 - categorical_accuracy: 0.3529\n",
      "Epoch 54/200\n",
      "3/3 [==============================] - 1s 185ms/step - loss: 1.0868 - categorical_accuracy: 0.3294\n",
      "Epoch 55/200\n",
      "3/3 [==============================] - 1s 195ms/step - loss: 1.0808 - categorical_accuracy: 0.3529\n",
      "Epoch 56/200\n",
      "3/3 [==============================] - 1s 186ms/step - loss: 1.0796 - categorical_accuracy: 0.4118\n",
      "Epoch 57/200\n",
      "3/3 [==============================] - 1s 182ms/step - loss: 1.0501 - categorical_accuracy: 0.5176\n",
      "Epoch 58/200\n",
      "3/3 [==============================] - 1s 190ms/step - loss: 1.0578 - categorical_accuracy: 0.4824\n",
      "Epoch 59/200\n",
      "3/3 [==============================] - 1s 162ms/step - loss: 0.9674 - categorical_accuracy: 0.5882\n",
      "Epoch 60/200\n",
      "3/3 [==============================] - 1s 201ms/step - loss: 0.9754 - categorical_accuracy: 0.4941\n",
      "Epoch 61/200\n",
      "3/3 [==============================] - 1s 200ms/step - loss: 0.9045 - categorical_accuracy: 0.5294\n",
      "Epoch 62/200\n",
      "3/3 [==============================] - 1s 191ms/step - loss: 1.0594 - categorical_accuracy: 0.3294\n",
      "Epoch 63/200\n",
      "3/3 [==============================] - 1s 174ms/step - loss: 1.1047 - categorical_accuracy: 0.3176\n",
      "Epoch 64/200\n",
      "3/3 [==============================] - 1s 202ms/step - loss: 1.0389 - categorical_accuracy: 0.5294\n",
      "Epoch 65/200\n",
      "3/3 [==============================] - 1s 246ms/step - loss: 1.0156 - categorical_accuracy: 0.4235\n",
      "Epoch 66/200\n",
      "3/3 [==============================] - 1s 185ms/step - loss: 1.0630 - categorical_accuracy: 0.4000\n",
      "Epoch 67/200\n",
      "3/3 [==============================] - 1s 211ms/step - loss: 1.1047 - categorical_accuracy: 0.3529\n",
      "Epoch 68/200\n",
      "3/3 [==============================] - 1s 224ms/step - loss: 1.1020 - categorical_accuracy: 0.3412\n",
      "Epoch 69/200\n",
      "3/3 [==============================] - 1s 224ms/step - loss: 1.0983 - categorical_accuracy: 0.3059\n",
      "Epoch 70/200\n",
      "3/3 [==============================] - 1s 178ms/step - loss: 1.0962 - categorical_accuracy: 0.2824\n",
      "Epoch 71/200\n",
      "3/3 [==============================] - 1s 171ms/step - loss: 1.0947 - categorical_accuracy: 0.2471\n",
      "Epoch 72/200\n",
      "3/3 [==============================] - 1s 209ms/step - loss: 1.0923 - categorical_accuracy: 0.2588\n",
      "Epoch 73/200\n",
      "3/3 [==============================] - 1s 199ms/step - loss: 1.0899 - categorical_accuracy: 0.2824\n",
      "Epoch 74/200\n",
      "3/3 [==============================] - 1s 183ms/step - loss: 1.0877 - categorical_accuracy: 0.2824\n",
      "Epoch 75/200\n",
      "3/3 [==============================] - 1s 202ms/step - loss: 1.0845 - categorical_accuracy: 0.5176\n",
      "Epoch 76/200\n",
      "3/3 [==============================] - 1s 187ms/step - loss: 1.0803 - categorical_accuracy: 0.6235\n",
      "Epoch 77/200\n",
      "3/3 [==============================] - 1s 199ms/step - loss: 1.0733 - categorical_accuracy: 0.6235\n",
      "Epoch 78/200\n",
      "3/3 [==============================] - 1s 203ms/step - loss: 1.0616 - categorical_accuracy: 0.6118\n",
      "Epoch 79/200\n",
      "3/3 [==============================] - 1s 195ms/step - loss: 1.0389 - categorical_accuracy: 0.4824\n",
      "Epoch 80/200\n",
      "3/3 [==============================] - 1s 186ms/step - loss: 0.9372 - categorical_accuracy: 0.3529\n",
      "Epoch 81/200\n",
      "3/3 [==============================] - 1s 169ms/step - loss: 0.9419 - categorical_accuracy: 0.6353\n",
      "Epoch 82/200\n",
      "3/3 [==============================] - 1s 176ms/step - loss: 0.9912 - categorical_accuracy: 0.4471\n",
      "Epoch 83/200\n",
      "3/3 [==============================] - 1s 183ms/step - loss: 1.1019 - categorical_accuracy: 0.3529\n",
      "Epoch 84/200\n",
      "3/3 [==============================] - 1s 178ms/step - loss: 1.1000 - categorical_accuracy: 0.3529\n",
      "Epoch 85/200\n",
      "3/3 [==============================] - 1s 172ms/step - loss: 1.0990 - categorical_accuracy: 0.3529\n",
      "Epoch 86/200\n",
      "3/3 [==============================] - 1s 185ms/step - loss: 1.0988 - categorical_accuracy: 0.3529\n",
      "Epoch 87/200\n",
      "3/3 [==============================] - 1s 184ms/step - loss: 1.0986 - categorical_accuracy: 0.3529\n",
      "Epoch 88/200\n",
      "3/3 [==============================] - 1s 176ms/step - loss: 1.0985 - categorical_accuracy: 0.3529\n",
      "Epoch 89/200\n",
      "3/3 [==============================] - 1s 166ms/step - loss: 1.0984 - categorical_accuracy: 0.3529\n",
      "Epoch 90/200\n",
      "3/3 [==============================] - 1s 171ms/step - loss: 1.0981 - categorical_accuracy: 0.3529\n",
      "Epoch 91/200\n",
      "3/3 [==============================] - 0s 170ms/step - loss: 1.0981 - categorical_accuracy: 0.3529\n",
      "Epoch 92/200\n",
      "3/3 [==============================] - 1s 175ms/step - loss: 1.0978 - categorical_accuracy: 0.3529\n",
      "Epoch 93/200\n",
      "3/3 [==============================] - 1s 181ms/step - loss: 1.0977 - categorical_accuracy: 0.3529\n",
      "Epoch 94/200\n",
      "3/3 [==============================] - 1s 171ms/step - loss: 1.0975 - categorical_accuracy: 0.3529\n",
      "Epoch 95/200\n",
      "3/3 [==============================] - 1s 203ms/step - loss: 1.0972 - categorical_accuracy: 0.3529\n",
      "Epoch 96/200\n",
      "3/3 [==============================] - 1s 184ms/step - loss: 1.0972 - categorical_accuracy: 0.3529\n",
      "Epoch 97/200\n",
      "3/3 [==============================] - 1s 204ms/step - loss: 1.0968 - categorical_accuracy: 0.3529\n",
      "Epoch 98/200\n",
      "3/3 [==============================] - 1s 194ms/step - loss: 1.0966 - categorical_accuracy: 0.3529\n",
      "Epoch 99/200\n",
      "3/3 [==============================] - 1s 173ms/step - loss: 1.0962 - categorical_accuracy: 0.3529\n",
      "Epoch 100/200\n",
      "3/3 [==============================] - 1s 172ms/step - loss: 1.0957 - categorical_accuracy: 0.3529\n",
      "Epoch 101/200\n",
      "3/3 [==============================] - 1s 218ms/step - loss: 1.0952 - categorical_accuracy: 0.3529\n",
      "Epoch 102/200\n",
      "3/3 [==============================] - 1s 195ms/step - loss: 1.0944 - categorical_accuracy: 0.3529\n",
      "Epoch 103/200\n",
      "3/3 [==============================] - 1s 210ms/step - loss: 1.0932 - categorical_accuracy: 0.3529\n",
      "Epoch 104/200\n",
      "3/3 [==============================] - 1s 199ms/step - loss: 1.0918 - categorical_accuracy: 0.3529\n",
      "Epoch 105/200\n",
      "3/3 [==============================] - 1s 181ms/step - loss: 1.0895 - categorical_accuracy: 0.3529\n",
      "Epoch 106/200\n",
      "3/3 [==============================] - 1s 199ms/step - loss: 1.0856 - categorical_accuracy: 0.3529\n",
      "Epoch 107/200\n",
      "3/3 [==============================] - 1s 179ms/step - loss: 1.0799 - categorical_accuracy: 0.3529\n",
      "Epoch 108/200\n",
      "3/3 [==============================] - 1s 184ms/step - loss: 1.1004 - categorical_accuracy: 0.3529\n",
      "Epoch 109/200\n",
      "3/3 [==============================] - 1s 204ms/step - loss: 1.0977 - categorical_accuracy: 0.3529\n",
      "Epoch 110/200\n",
      "3/3 [==============================] - 1s 172ms/step - loss: 1.0978 - categorical_accuracy: 0.3529\n",
      "Epoch 111/200\n",
      "3/3 [==============================] - 1s 175ms/step - loss: 1.0977 - categorical_accuracy: 0.3529\n",
      "Epoch 112/200\n",
      "3/3 [==============================] - 1s 188ms/step - loss: 1.0977 - categorical_accuracy: 0.3529\n",
      "Epoch 113/200\n",
      "3/3 [==============================] - 0s 167ms/step - loss: 1.0977 - categorical_accuracy: 0.3529\n",
      "Epoch 114/200\n",
      "3/3 [==============================] - 1s 187ms/step - loss: 1.0977 - categorical_accuracy: 0.3529\n",
      "Epoch 115/200\n",
      "3/3 [==============================] - 1s 210ms/step - loss: 1.0977 - categorical_accuracy: 0.3529\n",
      "Epoch 116/200\n",
      "3/3 [==============================] - 1s 204ms/step - loss: 1.0977 - categorical_accuracy: 0.3529\n",
      "Epoch 117/200\n",
      "3/3 [==============================] - 1s 188ms/step - loss: 1.0977 - categorical_accuracy: 0.3529\n",
      "Epoch 118/200\n",
      "3/3 [==============================] - 1s 187ms/step - loss: 1.0976 - categorical_accuracy: 0.3529\n",
      "Epoch 119/200\n",
      "3/3 [==============================] - 1s 203ms/step - loss: 1.0976 - categorical_accuracy: 0.3529\n",
      "Epoch 120/200\n",
      "3/3 [==============================] - 1s 197ms/step - loss: 1.0976 - categorical_accuracy: 0.3529\n",
      "Epoch 121/200\n",
      "3/3 [==============================] - 1s 214ms/step - loss: 1.0976 - categorical_accuracy: 0.3529\n",
      "Epoch 122/200\n",
      "3/3 [==============================] - 1s 210ms/step - loss: 1.0976 - categorical_accuracy: 0.3529\n",
      "Epoch 123/200\n",
      "3/3 [==============================] - 1s 210ms/step - loss: 1.0975 - categorical_accuracy: 0.3529\n",
      "Epoch 124/200\n",
      "3/3 [==============================] - 1s 240ms/step - loss: 1.0975 - categorical_accuracy: 0.3529\n",
      "Epoch 125/200\n",
      "3/3 [==============================] - 0s 168ms/step - loss: 1.0976 - categorical_accuracy: 0.3529\n",
      "Epoch 126/200\n",
      "3/3 [==============================] - 1s 190ms/step - loss: 1.0975 - categorical_accuracy: 0.3529\n",
      "Epoch 127/200\n",
      "3/3 [==============================] - 1s 205ms/step - loss: 1.0975 - categorical_accuracy: 0.3529\n",
      "Epoch 128/200\n",
      "3/3 [==============================] - 1s 170ms/step - loss: 1.0975 - categorical_accuracy: 0.3529\n",
      "Epoch 129/200\n",
      "3/3 [==============================] - 1s 205ms/step - loss: 1.0975 - categorical_accuracy: 0.3529\n",
      "Epoch 130/200\n",
      "3/3 [==============================] - 1s 185ms/step - loss: 1.0975 - categorical_accuracy: 0.3529\n",
      "Epoch 131/200\n",
      "3/3 [==============================] - 1s 198ms/step - loss: 1.0974 - categorical_accuracy: 0.3529\n",
      "Epoch 132/200\n",
      "3/3 [==============================] - ETA: 0s - loss: 1.0974 - categorical_accuracy: 0.35 - 1s 169ms/step - loss: 1.0974 - categorical_accuracy: 0.3529\n",
      "Epoch 133/200\n",
      "3/3 [==============================] - 1s 200ms/step - loss: 1.0974 - categorical_accuracy: 0.3529\n",
      "Epoch 134/200\n",
      "3/3 [==============================] - 1s 177ms/step - loss: 1.0974 - categorical_accuracy: 0.3529\n",
      "Epoch 135/200\n",
      "3/3 [==============================] - 1s 180ms/step - loss: 1.0974 - categorical_accuracy: 0.3529\n",
      "Epoch 136/200\n",
      "3/3 [==============================] - 1s 176ms/step - loss: 1.0974 - categorical_accuracy: 0.3529\n",
      "Epoch 137/200\n",
      "3/3 [==============================] - 1s 195ms/step - loss: 1.0974 - categorical_accuracy: 0.3529\n",
      "Epoch 138/200\n",
      "3/3 [==============================] - 1s 206ms/step - loss: 1.0973 - categorical_accuracy: 0.3529\n",
      "Epoch 139/200\n",
      "3/3 [==============================] - 1s 198ms/step - loss: 1.0973 - categorical_accuracy: 0.3529\n",
      "Epoch 140/200\n",
      "3/3 [==============================] - 1s 180ms/step - loss: 1.0973 - categorical_accuracy: 0.3529\n",
      "Epoch 141/200\n",
      "3/3 [==============================] - 1s 182ms/step - loss: 1.0972 - categorical_accuracy: 0.3529\n",
      "Epoch 142/200\n",
      "3/3 [==============================] - 1s 172ms/step - loss: 1.0972 - categorical_accuracy: 0.3529\n",
      "Epoch 143/200\n",
      "3/3 [==============================] - 1s 180ms/step - loss: 1.0972 - categorical_accuracy: 0.3529\n",
      "Epoch 144/200\n",
      "3/3 [==============================] - 1s 195ms/step - loss: 1.0972 - categorical_accuracy: 0.3529\n",
      "Epoch 145/200\n"
     ]
    },
    {
     "name": "stdout",
     "output_type": "stream",
     "text": [
      "3/3 [==============================] - 1s 169ms/step - loss: 1.0971 - categorical_accuracy: 0.3529\n",
      "Epoch 146/200\n",
      "3/3 [==============================] - 1s 214ms/step - loss: 1.0971 - categorical_accuracy: 0.3529\n",
      "Epoch 147/200\n",
      "3/3 [==============================] - 1s 183ms/step - loss: 1.0970 - categorical_accuracy: 0.3529\n",
      "Epoch 148/200\n",
      "3/3 [==============================] - 1s 181ms/step - loss: 1.0969 - categorical_accuracy: 0.3529\n",
      "Epoch 149/200\n",
      "3/3 [==============================] - 1s 212ms/step - loss: 1.0969 - categorical_accuracy: 0.3529\n",
      "Epoch 150/200\n",
      "3/3 [==============================] - 0s 174ms/step - loss: 1.0969 - categorical_accuracy: 0.3529\n",
      "Epoch 151/200\n",
      "3/3 [==============================] - 1s 187ms/step - loss: 1.0968 - categorical_accuracy: 0.3529\n",
      "Epoch 152/200\n",
      "3/3 [==============================] - 1s 206ms/step - loss: 1.0967 - categorical_accuracy: 0.3529\n",
      "Epoch 153/200\n",
      "3/3 [==============================] - 1s 192ms/step - loss: 1.0966 - categorical_accuracy: 0.3529\n",
      "Epoch 154/200\n",
      "3/3 [==============================] - 1s 162ms/step - loss: 1.0966 - categorical_accuracy: 0.3529\n",
      "Epoch 155/200\n",
      "3/3 [==============================] - 1s 192ms/step - loss: 1.0964 - categorical_accuracy: 0.3529\n",
      "Epoch 156/200\n",
      "3/3 [==============================] - 1s 169ms/step - loss: 1.0964 - categorical_accuracy: 0.3529\n",
      "Epoch 157/200\n",
      "3/3 [==============================] - 1s 199ms/step - loss: 1.0963 - categorical_accuracy: 0.3529\n",
      "Epoch 158/200\n",
      "3/3 [==============================] - 1s 218ms/step - loss: 1.0960 - categorical_accuracy: 0.3529\n",
      "Epoch 159/200\n",
      "3/3 [==============================] - 1s 216ms/step - loss: 1.0958 - categorical_accuracy: 0.3529\n",
      "Epoch 160/200\n",
      "3/3 [==============================] - 1s 221ms/step - loss: 1.0956 - categorical_accuracy: 0.3529\n",
      "Epoch 161/200\n",
      "3/3 [==============================] - 1s 208ms/step - loss: 1.0954 - categorical_accuracy: 0.3529\n",
      "Epoch 162/200\n",
      "3/3 [==============================] - 1s 188ms/step - loss: 1.0950 - categorical_accuracy: 0.3529\n",
      "Epoch 163/200\n",
      "3/3 [==============================] - 1s 175ms/step - loss: 1.0947 - categorical_accuracy: 0.3529\n",
      "Epoch 164/200\n",
      "3/3 [==============================] - 1s 209ms/step - loss: 1.0941 - categorical_accuracy: 0.3529\n",
      "Epoch 165/200\n",
      "3/3 [==============================] - 1s 220ms/step - loss: 1.0933 - categorical_accuracy: 0.3529\n",
      "Epoch 166/200\n",
      "3/3 [==============================] - 1s 199ms/step - loss: 1.0917 - categorical_accuracy: 0.3529\n",
      "Epoch 167/200\n",
      "3/3 [==============================] - 1s 204ms/step - loss: 1.0897 - categorical_accuracy: 0.3529\n",
      "Epoch 168/200\n",
      "3/3 [==============================] - 1s 221ms/step - loss: 1.0876 - categorical_accuracy: 0.3529\n",
      "Epoch 169/200\n",
      "3/3 [==============================] - 1s 192ms/step - loss: 1.0848 - categorical_accuracy: 0.3529\n",
      "Epoch 170/200\n",
      "3/3 [==============================] - 1s 187ms/step - loss: 1.0808 - categorical_accuracy: 0.35290s - loss: 1.0819 - categorical_accuracy: 0.\n",
      "Epoch 171/200\n",
      "3/3 [==============================] - 1s 174ms/step - loss: 1.0762 - categorical_accuracy: 0.3529\n",
      "Epoch 172/200\n",
      "3/3 [==============================] - 1s 177ms/step - loss: 1.0698 - categorical_accuracy: 0.3529\n",
      "Epoch 173/200\n",
      "3/3 [==============================] - 1s 197ms/step - loss: 1.0605 - categorical_accuracy: 0.3529\n",
      "Epoch 174/200\n",
      "3/3 [==============================] - 1s 180ms/step - loss: 1.0458 - categorical_accuracy: 0.4000\n",
      "Epoch 175/200\n",
      "3/3 [==============================] - 1s 204ms/step - loss: 1.0189 - categorical_accuracy: 0.7059\n",
      "Epoch 176/200\n",
      "3/3 [==============================] - 1s 214ms/step - loss: 0.9665 - categorical_accuracy: 0.69410s - loss: 0.9665 - categorical_accuracy: 0.69\n",
      "Epoch 177/200\n",
      "3/3 [==============================] - 1s 199ms/step - loss: 0.7985 - categorical_accuracy: 0.6588\n",
      "Epoch 178/200\n",
      "3/3 [==============================] - 1s 183ms/step - loss: 3.3993 - categorical_accuracy: 0.6471\n",
      "Epoch 179/200\n",
      "3/3 [==============================] - 1s 181ms/step - loss: 19.6632 - categorical_accuracy: 0.4706\n",
      "Epoch 180/200\n",
      "3/3 [==============================] - 1s 191ms/step - loss: 1.3860 - categorical_accuracy: 0.31760s - loss: 1.3860 - categorical_accuracy: 0.31\n",
      "Epoch 181/200\n",
      "3/3 [==============================] - 1s 190ms/step - loss: 1.1736 - categorical_accuracy: 0.3176\n",
      "Epoch 182/200\n",
      "3/3 [==============================] - 1s 233ms/step - loss: 1.1235 - categorical_accuracy: 0.3529\n",
      "Epoch 183/200\n",
      "3/3 [==============================] - 1s 209ms/step - loss: 1.0996 - categorical_accuracy: 0.3529\n",
      "Epoch 184/200\n",
      "3/3 [==============================] - 1s 172ms/step - loss: 1.0918 - categorical_accuracy: 0.3529\n",
      "Epoch 185/200\n",
      "3/3 [==============================] - 1s 176ms/step - loss: 1.0816 - categorical_accuracy: 0.3647\n",
      "Epoch 186/200\n",
      "3/3 [==============================] - 1s 200ms/step - loss: 1.0662 - categorical_accuracy: 0.5529\n",
      "Epoch 187/200\n",
      "3/3 [==============================] - 1s 185ms/step - loss: 1.0472 - categorical_accuracy: 0.40000s - loss: 1.0472 - categorical_accuracy: 0.40\n",
      "Epoch 188/200\n",
      "3/3 [==============================] - 0s 164ms/step - loss: 1.0459 - categorical_accuracy: 0.3294\n",
      "Epoch 189/200\n",
      "3/3 [==============================] - 1s 176ms/step - loss: 1.0625 - categorical_accuracy: 0.3059\n",
      "Epoch 190/200\n",
      "3/3 [==============================] - 1s 188ms/step - loss: 1.0008 - categorical_accuracy: 0.5176\n",
      "Epoch 191/200\n",
      "3/3 [==============================] - 1s 194ms/step - loss: 0.9445 - categorical_accuracy: 0.4706\n",
      "Epoch 192/200\n",
      "3/3 [==============================] - 1s 173ms/step - loss: 0.9293 - categorical_accuracy: 0.4353\n",
      "Epoch 193/200\n",
      "3/3 [==============================] - 1s 212ms/step - loss: 1.0056 - categorical_accuracy: 0.3647\n",
      "Epoch 194/200\n",
      "3/3 [==============================] - 1s 224ms/step - loss: 0.9853 - categorical_accuracy: 0.4471\n",
      "Epoch 195/200\n",
      "3/3 [==============================] - 1s 179ms/step - loss: 0.8675 - categorical_accuracy: 0.5647\n",
      "Epoch 196/200\n",
      "3/3 [==============================] - 1s 214ms/step - loss: 0.8806 - categorical_accuracy: 0.6588\n",
      "Epoch 197/200\n",
      "3/3 [==============================] - 1s 187ms/step - loss: 0.8475 - categorical_accuracy: 0.4706\n",
      "Epoch 198/200\n",
      "3/3 [==============================] - 1s 177ms/step - loss: 0.8337 - categorical_accuracy: 0.6706\n",
      "Epoch 199/200\n",
      "3/3 [==============================] - 1s 184ms/step - loss: 0.7995 - categorical_accuracy: 0.6353\n",
      "Epoch 200/200\n",
      "3/3 [==============================] - 1s 188ms/step - loss: 0.8278 - categorical_accuracy: 0.5882\n"
     ]
    },
    {
     "data": {
      "text/plain": [
       "<keras.callbacks.History at 0x1885da4d9d0>"
      ]
     },
     "execution_count": 72,
     "metadata": {},
     "output_type": "execute_result"
    }
   ],
   "source": [
    "model.fit(X_train, y_train, epochs=200, callbacks=[tb_callback])"
   ]
  },
  {
   "cell_type": "code",
   "execution_count": 73,
   "id": "9d892815",
   "metadata": {},
   "outputs": [],
   "source": [
    "res = model.predict(X_test)"
   ]
  },
  {
   "cell_type": "code",
   "execution_count": 74,
   "id": "2972bd10",
   "metadata": {},
   "outputs": [
    {
     "data": {
      "text/plain": [
       "'hello'"
      ]
     },
     "execution_count": 74,
     "metadata": {},
     "output_type": "execute_result"
    }
   ],
   "source": [
    "actions[np.argmax(res[3])]"
   ]
  },
  {
   "cell_type": "code",
   "execution_count": 75,
   "id": "bb012d51",
   "metadata": {},
   "outputs": [
    {
     "data": {
      "text/plain": [
       "'hello'"
      ]
     },
     "execution_count": 75,
     "metadata": {},
     "output_type": "execute_result"
    }
   ],
   "source": [
    "actions[np.argmax(y_test[3])]"
   ]
  },
  {
   "cell_type": "code",
   "execution_count": 77,
   "id": "516b80e9",
   "metadata": {},
   "outputs": [],
   "source": [
    "model.save('threeword3.h5')"
   ]
  },
  {
   "cell_type": "code",
   "execution_count": 37,
   "id": "b3831d01",
   "metadata": {},
   "outputs": [],
   "source": [
    "model.load_weights('threeword.h5')"
   ]
  },
  {
   "cell_type": "code",
   "execution_count": null,
   "id": "dfab866a",
   "metadata": {},
   "outputs": [],
   "source": []
  },
  {
   "cell_type": "code",
   "execution_count": 38,
   "id": "521110cd",
   "metadata": {},
   "outputs": [],
   "source": [
    "from sklearn.metrics import multilabel_confusion_matrix, accuracy_score"
   ]
  },
  {
   "cell_type": "code",
   "execution_count": 39,
   "id": "c7ce4a71",
   "metadata": {},
   "outputs": [],
   "source": [
    "yhat = model.predict(X_test)"
   ]
  },
  {
   "cell_type": "code",
   "execution_count": 40,
   "id": "5df2c6f5",
   "metadata": {},
   "outputs": [],
   "source": [
    "ytrue = np.argmax(y_test, axis=1).tolist()\n",
    "yhat = np.argmax(yhat, axis=1).tolist()"
   ]
  },
  {
   "cell_type": "code",
   "execution_count": 41,
   "id": "e11738df",
   "metadata": {},
   "outputs": [
    {
     "name": "stdout",
     "output_type": "stream",
     "text": [
      "[1, 2, 1, 1, 2] [0, 1, 0, 1, 1]\n"
     ]
    }
   ],
   "source": [
    "print(ytrue,yhat)"
   ]
  },
  {
   "cell_type": "code",
   "execution_count": 42,
   "id": "d0e457ea",
   "metadata": {},
   "outputs": [
    {
     "data": {
      "text/plain": [
       "array([[[3, 2],\n",
       "        [0, 0]],\n",
       "\n",
       "       [[0, 2],\n",
       "        [2, 1]],\n",
       "\n",
       "       [[3, 0],\n",
       "        [2, 0]]], dtype=int64)"
      ]
     },
     "execution_count": 42,
     "metadata": {},
     "output_type": "execute_result"
    }
   ],
   "source": [
    "multilabel_confusion_matrix(ytrue, yhat)"
   ]
  },
  {
   "cell_type": "code",
   "execution_count": 43,
   "id": "e34796bd",
   "metadata": {},
   "outputs": [
    {
     "data": {
      "text/plain": [
       "0.2"
      ]
     },
     "execution_count": 43,
     "metadata": {},
     "output_type": "execute_result"
    }
   ],
   "source": [
    "accuracy_score(ytrue, yhat)"
   ]
  },
  {
   "cell_type": "code",
   "execution_count": 44,
   "id": "1872ec4b",
   "metadata": {},
   "outputs": [],
   "source": [
    "from scipy import stats"
   ]
  },
  {
   "cell_type": "code",
   "execution_count": 45,
   "id": "507a99ed",
   "metadata": {},
   "outputs": [],
   "source": [
    "colors = [(245,117,16), (117,245,16), (16,117,245)]\n",
    "def prob_viz(res, actions, input_frame, colors):\n",
    "    output_frame = input_frame.copy()\n",
    "    for num, prob in enumerate(res):\n",
    "        cv2.rectangle(output_frame, (0,60+num*40), (int(prob*100), 90+num*40), colors[num], -1)\n",
    "        cv2.putText(output_frame, actions[num], (0, 85+num*40), cv2.FONT_HERSHEY_SIMPLEX, 1, (255,255,255), 2, cv2.LINE_AA)\n",
    "        \n",
    "    return output_frame"
   ]
  },
  {
   "cell_type": "code",
   "execution_count": 46,
   "id": "535792e4",
   "metadata": {},
   "outputs": [
    {
     "ename": "IndexError",
     "evalue": "list index out of range",
     "output_type": "error",
     "traceback": [
      "\u001b[1;31m---------------------------------------------------------------------------\u001b[0m",
      "\u001b[1;31mIndexError\u001b[0m                                Traceback (most recent call last)",
      "\u001b[1;32m~\\AppData\\Local\\Temp/ipykernel_16088/104962489.py\u001b[0m in \u001b[0;36m<module>\u001b[1;34m\u001b[0m\n\u001b[0;32m      1\u001b[0m \u001b[0mplt\u001b[0m\u001b[1;33m.\u001b[0m\u001b[0mfigure\u001b[0m\u001b[1;33m(\u001b[0m\u001b[0mfigsize\u001b[0m\u001b[1;33m=\u001b[0m\u001b[1;33m(\u001b[0m\u001b[1;36m18\u001b[0m\u001b[1;33m,\u001b[0m\u001b[1;36m18\u001b[0m\u001b[1;33m)\u001b[0m\u001b[1;33m)\u001b[0m\u001b[1;33m\u001b[0m\u001b[1;33m\u001b[0m\u001b[0m\n\u001b[1;32m----> 2\u001b[1;33m \u001b[0mplt\u001b[0m\u001b[1;33m.\u001b[0m\u001b[0mimshow\u001b[0m\u001b[1;33m(\u001b[0m\u001b[0mprob_viz\u001b[0m\u001b[1;33m(\u001b[0m\u001b[0mres\u001b[0m\u001b[1;33m,\u001b[0m \u001b[0mactions\u001b[0m\u001b[1;33m,\u001b[0m \u001b[0mimage\u001b[0m\u001b[1;33m,\u001b[0m \u001b[0mcolors\u001b[0m\u001b[1;33m)\u001b[0m\u001b[1;33m)\u001b[0m\u001b[1;33m\u001b[0m\u001b[1;33m\u001b[0m\u001b[0m\n\u001b[0m",
      "\u001b[1;32m~\\AppData\\Local\\Temp/ipykernel_16088/2568779431.py\u001b[0m in \u001b[0;36mprob_viz\u001b[1;34m(res, actions, input_frame, colors)\u001b[0m\n\u001b[0;32m      3\u001b[0m     \u001b[0moutput_frame\u001b[0m \u001b[1;33m=\u001b[0m \u001b[0minput_frame\u001b[0m\u001b[1;33m.\u001b[0m\u001b[0mcopy\u001b[0m\u001b[1;33m(\u001b[0m\u001b[1;33m)\u001b[0m\u001b[1;33m\u001b[0m\u001b[1;33m\u001b[0m\u001b[0m\n\u001b[0;32m      4\u001b[0m     \u001b[1;32mfor\u001b[0m \u001b[0mnum\u001b[0m\u001b[1;33m,\u001b[0m \u001b[0mprob\u001b[0m \u001b[1;32min\u001b[0m \u001b[0menumerate\u001b[0m\u001b[1;33m(\u001b[0m\u001b[0mres\u001b[0m\u001b[1;33m)\u001b[0m\u001b[1;33m:\u001b[0m\u001b[1;33m\u001b[0m\u001b[1;33m\u001b[0m\u001b[0m\n\u001b[1;32m----> 5\u001b[1;33m         \u001b[0mcv2\u001b[0m\u001b[1;33m.\u001b[0m\u001b[0mrectangle\u001b[0m\u001b[1;33m(\u001b[0m\u001b[0moutput_frame\u001b[0m\u001b[1;33m,\u001b[0m \u001b[1;33m(\u001b[0m\u001b[1;36m0\u001b[0m\u001b[1;33m,\u001b[0m\u001b[1;36m60\u001b[0m\u001b[1;33m+\u001b[0m\u001b[0mnum\u001b[0m\u001b[1;33m*\u001b[0m\u001b[1;36m40\u001b[0m\u001b[1;33m)\u001b[0m\u001b[1;33m,\u001b[0m \u001b[1;33m(\u001b[0m\u001b[0mint\u001b[0m\u001b[1;33m(\u001b[0m\u001b[0mprob\u001b[0m\u001b[1;33m*\u001b[0m\u001b[1;36m100\u001b[0m\u001b[1;33m)\u001b[0m\u001b[1;33m,\u001b[0m \u001b[1;36m90\u001b[0m\u001b[1;33m+\u001b[0m\u001b[0mnum\u001b[0m\u001b[1;33m*\u001b[0m\u001b[1;36m40\u001b[0m\u001b[1;33m)\u001b[0m\u001b[1;33m,\u001b[0m \u001b[0mcolors\u001b[0m\u001b[1;33m[\u001b[0m\u001b[0mnum\u001b[0m\u001b[1;33m]\u001b[0m\u001b[1;33m,\u001b[0m \u001b[1;33m-\u001b[0m\u001b[1;36m1\u001b[0m\u001b[1;33m)\u001b[0m\u001b[1;33m\u001b[0m\u001b[1;33m\u001b[0m\u001b[0m\n\u001b[0m\u001b[0;32m      6\u001b[0m         \u001b[0mcv2\u001b[0m\u001b[1;33m.\u001b[0m\u001b[0mputText\u001b[0m\u001b[1;33m(\u001b[0m\u001b[0moutput_frame\u001b[0m\u001b[1;33m,\u001b[0m \u001b[0mactions\u001b[0m\u001b[1;33m[\u001b[0m\u001b[0mnum\u001b[0m\u001b[1;33m]\u001b[0m\u001b[1;33m,\u001b[0m \u001b[1;33m(\u001b[0m\u001b[1;36m0\u001b[0m\u001b[1;33m,\u001b[0m \u001b[1;36m85\u001b[0m\u001b[1;33m+\u001b[0m\u001b[0mnum\u001b[0m\u001b[1;33m*\u001b[0m\u001b[1;36m40\u001b[0m\u001b[1;33m)\u001b[0m\u001b[1;33m,\u001b[0m \u001b[0mcv2\u001b[0m\u001b[1;33m.\u001b[0m\u001b[0mFONT_HERSHEY_SIMPLEX\u001b[0m\u001b[1;33m,\u001b[0m \u001b[1;36m1\u001b[0m\u001b[1;33m,\u001b[0m \u001b[1;33m(\u001b[0m\u001b[1;36m255\u001b[0m\u001b[1;33m,\u001b[0m\u001b[1;36m255\u001b[0m\u001b[1;33m,\u001b[0m\u001b[1;36m255\u001b[0m\u001b[1;33m)\u001b[0m\u001b[1;33m,\u001b[0m \u001b[1;36m2\u001b[0m\u001b[1;33m,\u001b[0m \u001b[0mcv2\u001b[0m\u001b[1;33m.\u001b[0m\u001b[0mLINE_AA\u001b[0m\u001b[1;33m)\u001b[0m\u001b[1;33m\u001b[0m\u001b[1;33m\u001b[0m\u001b[0m\n\u001b[0;32m      7\u001b[0m \u001b[1;33m\u001b[0m\u001b[0m\n",
      "\u001b[1;31mIndexError\u001b[0m: list index out of range"
     ]
    },
    {
     "data": {
      "text/plain": [
       "<Figure size 1296x1296 with 0 Axes>"
      ]
     },
     "metadata": {},
     "output_type": "display_data"
    }
   ],
   "source": [
    "plt.figure(figsize=(18,18))\n",
    "plt.imshow(prob_viz(res, actions, image, colors))"
   ]
  },
  {
   "cell_type": "code",
   "execution_count": 47,
   "id": "eb40fcbf",
   "metadata": {},
   "outputs": [],
   "source": [
    "import pyttsx3\n",
    "engine = pyttsx3.init()\n",
    "engine.setProperty(\"rate\", 150)\n",
    "def play_aud(text):\n",
    "    engine.say(text)\n",
    "    engine.runAndWait()\n",
    "    "
   ]
  },
  {
   "cell_type": "code",
   "execution_count": 48,
   "id": "4dfa320b",
   "metadata": {},
   "outputs": [
    {
     "name": "stdout",
     "output_type": "stream",
     "text": [
      "<class 'mediapipe.python.solution_base.SolutionOutputs'>\n",
      "<class 'mediapipe.python.solution_base.SolutionOutputs'>\n",
      "<class 'mediapipe.python.solution_base.SolutionOutputs'>\n",
      "<class 'mediapipe.python.solution_base.SolutionOutputs'>\n",
      "<class 'mediapipe.python.solution_base.SolutionOutputs'>\n",
      "<class 'mediapipe.python.solution_base.SolutionOutputs'>\n",
      "<class 'mediapipe.python.solution_base.SolutionOutputs'>\n",
      "<class 'mediapipe.python.solution_base.SolutionOutputs'>\n",
      "<class 'mediapipe.python.solution_base.SolutionOutputs'>\n",
      "<class 'mediapipe.python.solution_base.SolutionOutputs'>\n",
      "<class 'mediapipe.python.solution_base.SolutionOutputs'>\n",
      "<class 'mediapipe.python.solution_base.SolutionOutputs'>\n",
      "<class 'mediapipe.python.solution_base.SolutionOutputs'>\n",
      "<class 'mediapipe.python.solution_base.SolutionOutputs'>\n",
      "<class 'mediapipe.python.solution_base.SolutionOutputs'>\n",
      "<class 'mediapipe.python.solution_base.SolutionOutputs'>\n",
      "<class 'mediapipe.python.solution_base.SolutionOutputs'>\n",
      "<class 'mediapipe.python.solution_base.SolutionOutputs'>\n",
      "<class 'mediapipe.python.solution_base.SolutionOutputs'>\n",
      "<class 'mediapipe.python.solution_base.SolutionOutputs'>\n",
      "<class 'mediapipe.python.solution_base.SolutionOutputs'>\n",
      "<class 'mediapipe.python.solution_base.SolutionOutputs'>\n",
      "<class 'mediapipe.python.solution_base.SolutionOutputs'>\n",
      "<class 'mediapipe.python.solution_base.SolutionOutputs'>\n",
      "<class 'mediapipe.python.solution_base.SolutionOutputs'>\n",
      "<class 'mediapipe.python.solution_base.SolutionOutputs'>\n",
      "<class 'mediapipe.python.solution_base.SolutionOutputs'>\n",
      "<class 'mediapipe.python.solution_base.SolutionOutputs'>\n",
      "<class 'mediapipe.python.solution_base.SolutionOutputs'>\n",
      "<class 'mediapipe.python.solution_base.SolutionOutputs'>\n",
      "<class 'mediapipe.python.solution_base.SolutionOutputs'>\n",
      "<class 'mediapipe.python.solution_base.SolutionOutputs'>\n",
      "<class 'mediapipe.python.solution_base.SolutionOutputs'>\n",
      "<class 'mediapipe.python.solution_base.SolutionOutputs'>\n",
      "<class 'mediapipe.python.solution_base.SolutionOutputs'>\n",
      "<class 'mediapipe.python.solution_base.SolutionOutputs'>\n",
      "<class 'mediapipe.python.solution_base.SolutionOutputs'>\n",
      "<class 'mediapipe.python.solution_base.SolutionOutputs'>\n",
      "<class 'mediapipe.python.solution_base.SolutionOutputs'>\n",
      "<class 'mediapipe.python.solution_base.SolutionOutputs'>\n",
      "<class 'mediapipe.python.solution_base.SolutionOutputs'>\n",
      "<class 'mediapipe.python.solution_base.SolutionOutputs'>\n",
      "<class 'mediapipe.python.solution_base.SolutionOutputs'>\n",
      "<class 'mediapipe.python.solution_base.SolutionOutputs'>\n",
      "<class 'mediapipe.python.solution_base.SolutionOutputs'>\n",
      "<class 'mediapipe.python.solution_base.SolutionOutputs'>\n",
      "<class 'mediapipe.python.solution_base.SolutionOutputs'>\n",
      "<class 'mediapipe.python.solution_base.SolutionOutputs'>\n",
      "<class 'mediapipe.python.solution_base.SolutionOutputs'>\n",
      "<class 'mediapipe.python.solution_base.SolutionOutputs'>\n",
      "<class 'mediapipe.python.solution_base.SolutionOutputs'>\n",
      "<class 'mediapipe.python.solution_base.SolutionOutputs'>\n",
      "<class 'mediapipe.python.solution_base.SolutionOutputs'>\n",
      "<class 'mediapipe.python.solution_base.SolutionOutputs'>\n",
      "<class 'mediapipe.python.solution_base.SolutionOutputs'>\n",
      "<class 'mediapipe.python.solution_base.SolutionOutputs'>\n",
      "<class 'mediapipe.python.solution_base.SolutionOutputs'>\n",
      "<class 'mediapipe.python.solution_base.SolutionOutputs'>\n",
      "<class 'mediapipe.python.solution_base.SolutionOutputs'>\n",
      "<class 'mediapipe.python.solution_base.SolutionOutputs'>\n",
      "<class 'mediapipe.python.solution_base.SolutionOutputs'>\n",
      "<class 'mediapipe.python.solution_base.SolutionOutputs'>\n",
      "<class 'mediapipe.python.solution_base.SolutionOutputs'>\n",
      "<class 'mediapipe.python.solution_base.SolutionOutputs'>\n",
      "<class 'mediapipe.python.solution_base.SolutionOutputs'>\n",
      "<class 'mediapipe.python.solution_base.SolutionOutputs'>\n",
      "<class 'mediapipe.python.solution_base.SolutionOutputs'>\n",
      "<class 'mediapipe.python.solution_base.SolutionOutputs'>\n",
      "<class 'mediapipe.python.solution_base.SolutionOutputs'>\n",
      "<class 'mediapipe.python.solution_base.SolutionOutputs'>\n",
      "<class 'mediapipe.python.solution_base.SolutionOutputs'>\n",
      "<class 'mediapipe.python.solution_base.SolutionOutputs'>\n",
      "<class 'mediapipe.python.solution_base.SolutionOutputs'>\n",
      "<class 'mediapipe.python.solution_base.SolutionOutputs'>\n",
      "<class 'mediapipe.python.solution_base.SolutionOutputs'>\n",
      "<class 'mediapipe.python.solution_base.SolutionOutputs'>\n",
      "<class 'mediapipe.python.solution_base.SolutionOutputs'>\n",
      "<class 'mediapipe.python.solution_base.SolutionOutputs'>\n",
      "<class 'mediapipe.python.solution_base.SolutionOutputs'>\n",
      "<class 'mediapipe.python.solution_base.SolutionOutputs'>\n",
      "<class 'mediapipe.python.solution_base.SolutionOutputs'>\n",
      "<class 'mediapipe.python.solution_base.SolutionOutputs'>\n",
      "<class 'mediapipe.python.solution_base.SolutionOutputs'>\n",
      "<class 'mediapipe.python.solution_base.SolutionOutputs'>\n",
      "<class 'mediapipe.python.solution_base.SolutionOutputs'>\n",
      "<class 'mediapipe.python.solution_base.SolutionOutputs'>\n",
      "<class 'mediapipe.python.solution_base.SolutionOutputs'>\n",
      "<class 'mediapipe.python.solution_base.SolutionOutputs'>\n",
      "<class 'mediapipe.python.solution_base.SolutionOutputs'>\n",
      "<class 'mediapipe.python.solution_base.SolutionOutputs'>\n",
      "<class 'mediapipe.python.solution_base.SolutionOutputs'>\n",
      "<class 'mediapipe.python.solution_base.SolutionOutputs'>\n",
      "<class 'mediapipe.python.solution_base.SolutionOutputs'>\n",
      "<class 'mediapipe.python.solution_base.SolutionOutputs'>\n",
      "<class 'mediapipe.python.solution_base.SolutionOutputs'>\n",
      "<class 'mediapipe.python.solution_base.SolutionOutputs'>\n",
      "<class 'mediapipe.python.solution_base.SolutionOutputs'>\n",
      "<class 'mediapipe.python.solution_base.SolutionOutputs'>\n",
      "<class 'mediapipe.python.solution_base.SolutionOutputs'>\n",
      "<class 'mediapipe.python.solution_base.SolutionOutputs'>\n",
      "<class 'mediapipe.python.solution_base.SolutionOutputs'>\n",
      "<class 'mediapipe.python.solution_base.SolutionOutputs'>\n",
      "<class 'mediapipe.python.solution_base.SolutionOutputs'>\n",
      "<class 'mediapipe.python.solution_base.SolutionOutputs'>\n",
      "<class 'mediapipe.python.solution_base.SolutionOutputs'>\n",
      "<class 'mediapipe.python.solution_base.SolutionOutputs'>\n",
      "<class 'mediapipe.python.solution_base.SolutionOutputs'>\n"
     ]
    }
   ],
   "source": [
    "# 1. New detection variables\n",
    "\n",
    "sequence = []\n",
    "sentence = []\n",
    "predictions = []\n",
    "threshold = 0.5\n",
    "\n",
    "cap = cv2.VideoCapture(0)\n",
    "# Set mediapipe model \n",
    "with mp_holistic.Holistic(min_detection_confidence=0.5, min_tracking_confidence=0.5) as holistic:\n",
    "    words={}\n",
    "    while cap.isOpened():\n",
    "\n",
    "        # Read feed\n",
    "        ret, frame = cap.read()\n",
    "\n",
    "        # Make detections\n",
    "        image, results = mediapipe_detection(frame, holistic)\n",
    "        print(results)\n",
    "        \n",
    "        # Draw landmarks\n",
    "        draw_styled_landmarks(image, results)\n",
    "        \n",
    "        # 2. Prediction logic\n",
    "        keypoints = extract_keypoints(results)\n",
    "        sequence.append(keypoints)\n",
    "        sequence = sequence[-30:]\n",
    "        \n",
    "       \n",
    "        if len(sequence) == 30:\n",
    "            res = model.predict(np.expand_dims(sequence, axis=0))[0]\n",
    "            #print(actions[np.argmax(res)])\n",
    "#             word=actions[np.argmax(res)]\n",
    "#             if word not in words:\n",
    "#                 words[word]=1\n",
    "#             else:\n",
    "#                 words[word]+=1\n",
    "#             print(words)\n",
    "            predictions.append(np.argmax(res))\n",
    "            \n",
    "            \n",
    "        #3. Viz logic\n",
    "            if np.unique(predictions[-10:])[0]==np.argmax(res): \n",
    "                if res[np.argmax(res)] > threshold: \n",
    "                    \n",
    "                    if len(sentence) > 0: \n",
    "                        if actions[np.argmax(res)] != sentence[-1]:\n",
    "                            sentence.append(actions[np.argmax(res)])\n",
    "                            play_aud(actions[np.argmax(res)])\n",
    "                    else:\n",
    "                        sentence.append(actions[np.argmax(res)])\n",
    "                        play_aud(actions[np.argmax(res)])\n",
    "\n",
    "            if len(sentence) > 5: \n",
    "                sentence = sentence[-5:]\n",
    "\n",
    "            # Viz probabilities\n",
    "            image = prob_viz(res, actions, image, colors)\n",
    "            \n",
    "#         cv2.rectangle(image, (0,0), (640, 40), (245, 117, 16), -1)\n",
    "#         cv2.putText(image, ' '.join(sentence), (3,30), \n",
    "#                        cv2.FONT_HERSHEY_SIMPLEX, 1, (255, 255, 255), 2, cv2.LINE_AA)\n",
    "        \n",
    "        # Show to screen\n",
    "        cv2.imshow('OpenCV Feed', image)\n",
    "\n",
    "        # Break gracefully\n",
    "        if cv2.waitKey(10) & 0xFF == ord('q'):\n",
    "            break\n",
    "    cap.release()\n",
    "    cv2.destroyAllWindows()"
   ]
  },
  {
   "cell_type": "code",
   "execution_count": 31,
   "id": "79d82f01",
   "metadata": {},
   "outputs": [],
   "source": [
    "cap.release()\n",
    "cv2.destroyAllWindows()"
   ]
  },
  {
   "cell_type": "code",
   "execution_count": null,
   "id": "5fc8c0c3",
   "metadata": {},
   "outputs": [],
   "source": []
  },
  {
   "cell_type": "code",
   "execution_count": null,
   "id": "e8e50be8",
   "metadata": {},
   "outputs": [],
   "source": []
  }
 ],
 "metadata": {
  "kernelspec": {
   "display_name": "Python 3 (ipykernel)",
   "language": "python",
   "name": "python3"
  },
  "language_info": {
   "codemirror_mode": {
    "name": "ipython",
    "version": 3
   },
   "file_extension": ".py",
   "mimetype": "text/x-python",
   "name": "python",
   "nbconvert_exporter": "python",
   "pygments_lexer": "ipython3",
   "version": "3.8.0"
  }
 },
 "nbformat": 4,
 "nbformat_minor": 5
}
