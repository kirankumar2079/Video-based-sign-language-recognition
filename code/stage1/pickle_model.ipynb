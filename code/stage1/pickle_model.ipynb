{
 "cells": [
  {
   "cell_type": "code",
   "execution_count": 1,
   "id": "1df97c04",
   "metadata": {},
   "outputs": [],
   "source": [
    "import pickle"
   ]
  },
  {
   "cell_type": "code",
   "execution_count": 2,
   "id": "1c561203",
   "metadata": {},
   "outputs": [],
   "source": [
    "import tensorflow as tf\n",
    "from tensorflow.keras.layers import Conv2D,MaxPooling2D,Flatten,Dense\n",
    "from tensorflow.keras.models import Sequential\n",
    "#from sklearn.preprocessing import LabelEncoder\n",
    "#from sklearn.model_selection import train_test_split"
   ]
  },
  {
   "cell_type": "code",
   "execution_count": 3,
   "id": "953a2fe1",
   "metadata": {},
   "outputs": [],
   "source": [
    "X_test=pickle.load(open('testingimages.pkl', 'rb'))\n",
    "Y_test=pickle.load(open('testinglabels.pkl', 'rb'))\n",
    "X_train=pickle.load(open('trainingimages.pkl', 'rb'))\n",
    "Y_train=pickle.load(open('traininglabels.pkl', 'rb'))"
   ]
  },
  {
   "cell_type": "code",
   "execution_count": 4,
   "id": "e6204996",
   "metadata": {},
   "outputs": [],
   "source": [
    "# a,b,c,d = train_test_split(X_train,Y_train,test_size=0.2)"
   ]
  },
  {
   "cell_type": "code",
   "execution_count": 5,
   "id": "fc8fc101",
   "metadata": {},
   "outputs": [],
   "source": [
    "from tensorflow.keras.utils import to_categorical as toc\n",
    "Y_train_one=toc(Y_train)\n",
    "Y_test_one=toc(Y_test)"
   ]
  },
  {
   "cell_type": "code",
   "execution_count": 6,
   "id": "b771baf0",
   "metadata": {},
   "outputs": [],
   "source": [
    "X_test=pickle.load(open('testingimages.pkl', 'rb'))"
   ]
  },
  {
   "cell_type": "code",
   "execution_count": 7,
   "id": "4e2563af",
   "metadata": {},
   "outputs": [],
   "source": [
    "def model():\n",
    "    model=Sequential()\n",
    "    model.add(Conv2D(36, (3, 3), activation='relu', input_shape=X_train.shape[1:]))\n",
    "    model.add(MaxPooling2D(2, 2))\n",
    "    model.add(Conv2D(36, (3, 3), activation='relu'))\n",
    "    model.add(MaxPooling2D(2,2))\n",
    "    model.add(Flatten())\n",
    "    model.add(Dense(512,activation='relu'))\n",
    "    model.add(Dense(36,activation='softmax'))\n",
    "    \n",
    "    return model"
   ]
  },
  {
   "cell_type": "code",
   "execution_count": 8,
   "id": "e9de0c2f",
   "metadata": {},
   "outputs": [],
   "source": [
    "mymodel=model()"
   ]
  },
  {
   "cell_type": "code",
   "execution_count": 9,
   "id": "f2c4935e",
   "metadata": {},
   "outputs": [
    {
     "name": "stdout",
     "output_type": "stream",
     "text": [
      "Model: \"sequential\"\n",
      "_________________________________________________________________\n",
      " Layer (type)                Output Shape              Param #   \n",
      "=================================================================\n",
      " conv2d (Conv2D)             (None, 126, 126, 36)      1008      \n",
      "                                                                 \n",
      " max_pooling2d (MaxPooling2D  (None, 63, 63, 36)       0         \n",
      " )                                                               \n",
      "                                                                 \n",
      " conv2d_1 (Conv2D)           (None, 61, 61, 36)        11700     \n",
      "                                                                 \n",
      " max_pooling2d_1 (MaxPooling  (None, 30, 30, 36)       0         \n",
      " 2D)                                                             \n",
      "                                                                 \n",
      " flatten (Flatten)           (None, 32400)             0         \n",
      "                                                                 \n",
      " dense (Dense)               (None, 512)               16589312  \n",
      "                                                                 \n",
      " dense_1 (Dense)             (None, 36)                18468     \n",
      "                                                                 \n",
      "=================================================================\n",
      "Total params: 16,620,488\n",
      "Trainable params: 16,620,488\n",
      "Non-trainable params: 0\n",
      "_________________________________________________________________\n",
      "None\n"
     ]
    }
   ],
   "source": [
    "print(mymodel.summary())"
   ]
  },
  {
   "cell_type": "code",
   "execution_count": 16,
   "id": "12206d23",
   "metadata": {},
   "outputs": [],
   "source": [
    "mymodel.compile(optimizer='adam',loss='categorical_crossentropy',metrics=['accuracy'])"
   ]
  },
  {
   "cell_type": "code",
   "execution_count": 17,
   "id": "8d2afba9",
   "metadata": {},
   "outputs": [
    {
     "name": "stdout",
     "output_type": "stream",
     "text": [
      "Epoch 1/10\n",
      "1168/1168 [==============================] - 55s 41ms/step - loss: 0.5369 - accuracy: 0.9870 - val_loss: 1.1027 - val_accuracy: 0.9594\n",
      "Epoch 2/10\n",
      "1168/1168 [==============================] - 49s 42ms/step - loss: 0.0098 - accuracy: 0.9987 - val_loss: 0.6432 - val_accuracy: 0.9779\n",
      "Epoch 3/10\n",
      "1168/1168 [==============================] - 101s 87ms/step - loss: 1.5516e-09 - accuracy: 1.0000 - val_loss: 0.6436 - val_accuracy: 0.9779\n",
      "Epoch 4/10\n",
      "1168/1168 [==============================] - 117s 100ms/step - loss: 4.7976e-10 - accuracy: 1.0000 - val_loss: 0.6438 - val_accuracy: 0.9779\n",
      "Epoch 5/10\n",
      "1168/1168 [==============================] - 96s 82ms/step - loss: 3.6408e-10 - accuracy: 1.0000 - val_loss: 0.6439 - val_accuracy: 0.9779\n",
      "Epoch 6/10\n",
      "1168/1168 [==============================] - 77s 66ms/step - loss: 2.7901e-10 - accuracy: 1.0000 - val_loss: 0.6440 - val_accuracy: 0.9779\n",
      "Epoch 7/10\n",
      "1168/1168 [==============================] - 3927s 3s/step - loss: 2.1776e-10 - accuracy: 1.0000 - val_loss: 0.6441 - val_accuracy: 0.9779\n",
      "Epoch 8/10\n",
      "1168/1168 [==============================] - 47s 40ms/step - loss: 1.8034e-10 - accuracy: 1.0000 - val_loss: 0.6442 - val_accuracy: 0.9779\n",
      "Epoch 9/10\n",
      "1168/1168 [==============================] - 48s 41ms/step - loss: 1.3951e-10 - accuracy: 1.0000 - val_loss: 0.6443 - val_accuracy: 0.9779\n",
      "Epoch 10/10\n",
      "1168/1168 [==============================] - 48s 41ms/step - loss: 9.8675e-11 - accuracy: 1.0000 - val_loss: 0.6445 - val_accuracy: 0.9779\n"
     ]
    }
   ],
   "source": [
    "h=mymodel.fit(X_train,Y_train_one,epochs=10,validation_data=(X_test,Y_test_one),batch_size=30)"
   ]
  },
  {
   "cell_type": "code",
   "execution_count": 19,
   "id": "f44155af",
   "metadata": {},
   "outputs": [
    {
     "name": "stdout",
     "output_type": "stream",
     "text": [
      "INFO:tensorflow:Assets written to: saved_model/stage1_03\\assets\n"
     ]
    }
   ],
   "source": [
    "mymodel.save('saved_model/stage1_03')"
   ]
  },
  {
   "cell_type": "code",
   "execution_count": 24,
   "id": "58bb6150",
   "metadata": {},
   "outputs": [],
   "source": [
    "history=h"
   ]
  },
  {
   "cell_type": "code",
   "execution_count": 25,
   "id": "690cde90",
   "metadata": {},
   "outputs": [],
   "source": [
    "import matplotlib.pyplot as plt"
   ]
  },
  {
   "cell_type": "code",
   "execution_count": 28,
   "id": "9ec707e1",
   "metadata": {},
   "outputs": [
    {
     "data": {
      "image/png": "[encoded data removed]",
      "text/plain": [
       "<Figure size 432x288 with 1 Axes>"
      ]
     },
     "metadata": {
      "needs_background": "light"
     },
     "output_type": "display_data"
    }
   ],
   "source": [
    "loss_train = history.history['loss']\n",
    "loss_val = history.history['val_loss']\n",
    "epochs = range(1,11)\n",
    "plt.plot(epochs, loss_train, 'g', label='Training loss')\n",
    "plt.plot(epochs, loss_val, 'b', label='validation loss')\n",
    "plt.title('Training and Validation loss')\n",
    "plt.xlabel('Epochs')\n",
    "plt.ylabel('Loss')\n",
    "plt.legend()\n",
    "plt.show()"
   ]
  },
  {
   "cell_type": "code",
   "execution_count": 30,
   "id": "dca827bf",
   "metadata": {
    "scrolled": true
   },
   "outputs": [
    {
     "data": {
      "text/plain": [
       "[<matplotlib.lines.Line2D at 0x1ce112b6100>]"
      ]
     },
     "execution_count": 30,
     "metadata": {},
     "output_type": "execute_result"
    },
    {
     "data": {
      "image/png": "[encoded data removed]",
      "text/plain": [
       "<Figure size 432x288 with 1 Axes>"
      ]
     },
     "metadata": {
      "needs_background": "light"
     },
     "output_type": "display_data"
    }
   ],
   "source": [
    "loss = history.history['val_accuracy']\n",
    "accuracy = history.history['accuracy']\n",
    "\n",
    "plt.plot(loss)\n",
    "plt.plot(accuracy)"
   ]
  },
  {
   "cell_type": "code",
   "execution_count": 3,
   "id": "20dc3106",
   "metadata": {},
   "outputs": [],
   "source": [
    "mymodel1=tf.keras.models.load_model('saved_model/stage1')"
   ]
  },
  {
   "cell_type": "code",
   "execution_count": 7,
   "id": "9140e624",
   "metadata": {},
   "outputs": [],
   "source": [
    "import os\n",
    "import cv2\n",
    "import numpy as np"
   ]
  },
  {
   "cell_type": "code",
   "execution_count": 8,
   "id": "cb0de01f",
   "metadata": {},
   "outputs": [],
   "source": [
    "predictdata=[]\n",
    "path=r\"C:\\Users\\azhar\\Desktop\\project 3c\\src\\stage1\\images\"\n",
    "os.listdir(path)\n",
    "imagpath=\"\"\n",
    "for i in os.listdir(path):\n",
    "    imgpath=os.path.join(path,i)\n",
    "    imgarr=cv2.imread(imgpath,0)\n",
    "    imgarr=cv2.resize(imgarr,(128,128))\n",
    "    predictdata.append(imgarr)\n",
    "    "
   ]
  },
  {
   "cell_type": "code",
   "execution_count": 9,
   "id": "8eb09f1f",
   "metadata": {},
   "outputs": [],
   "source": [
    "\n",
    "x=np.array(predictdata)\n",
    "\n",
    "lookup = {0:'1',1:'2',2:'3',3:'4',4:'5',5:'6',\n",
    "          6:'7',7:'8',8:'9',9:'A',10:'B',11:'C',12:'D',13:'E',14:'F',15:'G',\n",
    "          16:'H',17:'I',18:'J',19:'K',20:'L',21:'M',22:'N',23:'O',24:'P',\n",
    "          25:'Q',26:'R',27:'S',28:'T',29:'U',30:'V',31:'W',32:'X',33:'Y',34:'Z'}"
   ]
  },
  {
   "cell_type": "code",
   "execution_count": null,
   "id": "17d21d57",
   "metadata": {},
   "outputs": [],
   "source": []
  },
  {
   "cell_type": "code",
   "execution_count": 10,
   "id": "2f73c9d4",
   "metadata": {},
   "outputs": [
    {
     "name": "stdout",
     "output_type": "stream",
     "text": [
      "1\n",
      "2\n",
      "3\n",
      "4\n",
      "5\n",
      "6\n",
      "7\n",
      "8\n",
      "9\n",
      "A\n",
      "5\n",
      "5\n"
     ]
    }
   ],
   "source": [
    "y=mymodel1.predict(x)\n",
    "for i in y:\n",
    "    ls=list(i)\n",
    "    ls1=[ele*1000 for ele in ls]\n",
    "    print(lookup[ls1.index(max(ls1))])"
   ]
  },
  {
   "cell_type": "code",
   "execution_count": null,
   "id": "3d36bf74",
   "metadata": {},
   "outputs": [],
   "source": []
  }
 ],
 "metadata": {
  "kernelspec": {
   "display_name": "Python 3 (ipykernel)",
   "language": "python",
   "name": "python3"
  },
  "language_info": {
   "codemirror_mode": {
    "name": "ipython",
    "version": 3
   },
   "file_extension": ".py",
   "mimetype": "text/x-python",
   "name": "python",
   "nbconvert_exporter": "python",
   "pygments_lexer": "ipython3",
   "version": "3.8.0"
  }
 },
 "nbformat": 4,
 "nbformat_minor": 5
}
