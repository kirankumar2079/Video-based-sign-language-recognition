{
 "cells": [
  {
   "cell_type": "code",
   "execution_count": 2,
   "id": "406201b4",
   "metadata": {},
   "outputs": [],
   "source": [
    "from tensorflow.compat.v1 import ConfigProto\n",
    "from tensorflow.compat.v1 import InteractiveSession\n",
    "\n",
    "config = ConfigProto()\n",
    "config.gpu_options.per_process_gpu_memory_fraction = 0.5\n",
    "config.gpu_options.allow_growth = True\n",
    "session = InteractiveSession(config=config)"
   ]
  },
  {
   "cell_type": "code",
   "execution_count": 2,
   "id": "bd8d08e0",
   "metadata": {},
   "outputs": [],
   "source": [
    "import tensorflow as tf\n",
    "from tensorflow.keras.preprocessing.image import ImageDataGenerator"
   ]
  },
  {
   "cell_type": "code",
   "execution_count": 3,
   "id": "6eb451e8",
   "metadata": {},
   "outputs": [],
   "source": [
    "from tensorflow.keras.layers import Conv2D\n",
    "from tensorflow.keras.layers import Dense"
   ]
  },
  {
   "cell_type": "code",
   "execution_count": 4,
   "id": "61da457e",
   "metadata": {},
   "outputs": [],
   "source": [
    "from tensorflow.keras.regularizers import l2"
   ]
  },
  {
   "cell_type": "code",
   "execution_count": 5,
   "id": "ad6ffacd",
   "metadata": {},
   "outputs": [
    {
     "name": "stdout",
     "output_type": "stream",
     "text": [
      "Found 70070 files belonging to 35 classes.\n",
      "Using 69370 files for training.\n",
      "Found 6965 files belonging to 35 classes.\n",
      "Using 6616 files for validation.\n"
     ]
    }
   ],
   "source": [
    "img_height = 128\n",
    "img_width = 128\n",
    "batch_size = 100\n",
    "\n",
    "ds_train = tf.keras.preprocessing.image_dataset_from_directory(\n",
    "    \"imagedataset/train/\",\n",
    "    labels=\"inferred\",\n",
    "    label_mode=\"int\", \n",
    "    color_mode=\"grayscale\",\n",
    "    batch_size=batch_size,\n",
    "    image_size=(img_height, img_width),  # reshape if not in this size\n",
    "    shuffle=True,\n",
    "    seed=123,\n",
    "    validation_split=0.01,\n",
    "    subset=\"training\",\n",
    ")\n",
    "\n",
    "ds_validation = tf.keras.preprocessing.image_dataset_from_directory(\n",
    "    \"imagedataset/test/\",\n",
    "    labels=\"inferred\",\n",
    "    label_mode=\"int\", \n",
    "    color_mode=\"grayscale\",\n",
    "    batch_size=1\n",
    "    ,\n",
    "    image_size=(img_height, img_width),  # reshape if not in this size\n",
    "    shuffle=True,\n",
    "    seed=123,\n",
    "    validation_split=0.95,\n",
    "    subset=\"validation\",\n",
    ")\n"
   ]
  },
  {
   "cell_type": "code",
   "execution_count": 6,
   "id": "af554ced",
   "metadata": {},
   "outputs": [],
   "source": [
    "# Part 2 - Building the CNN\n",
    "# Initialising the CNN\n",
    "cnn = tf.keras.models.Sequential()\n",
    "\n",
    "# Step 1 - Convolution\n",
    "cnn.add(tf.keras.layers.Conv2D(filters=64,padding=\"same\",kernel_size=3, activation='relu', strides=2, input_shape=[128, 128, 1]))\n",
    "\n",
    "# Step 2 - Pooling\n",
    "cnn.add(tf.keras.layers.MaxPool2D(pool_size=2, strides=2))\n",
    "\n",
    "# Adding a second convolutional layer\n",
    "cnn.add(tf.keras.layers.Conv2D(filters=64,padding='same',kernel_size=3, activation='relu'))\n",
    "cnn.add(tf.keras.layers.MaxPool2D(pool_size=2, strides=2))\n",
    "\n",
    "# Step 3 - Flattening\n",
    "cnn.add(tf.keras.layers.Flatten())\n",
    "\n",
    "# Step 4 - Full Connection\n",
    "cnn.add(tf.keras.layers.Dense(units=128, activation='relu'))\n",
    "\n",
    "cnn.add(Dense(35, kernel_regularizer=tf.keras.regularizers.l2(0.01),activation\n",
    "             ='softmax'))\n",
    "cnn.compile(optimizer = 'adam', loss = 'squared_hinge', metrics = ['accuracy'])"
   ]
  },
  {
   "cell_type": "code",
   "execution_count": 7,
   "id": "4df89467",
   "metadata": {},
   "outputs": [
    {
     "name": "stdout",
     "output_type": "stream",
     "text": [
      "Model: \"sequential\"\n",
      "_________________________________________________________________\n",
      "Layer (type)                 Output Shape              Param #   \n",
      "=================================================================\n",
      "conv2d (Conv2D)              (None, 64, 64, 64)        640       \n",
      "_________________________________________________________________\n",
      "max_pooling2d (MaxPooling2D) (None, 32, 32, 64)        0         \n",
      "_________________________________________________________________\n",
      "conv2d_1 (Conv2D)            (None, 32, 32, 64)        36928     \n",
      "_________________________________________________________________\n",
      "max_pooling2d_1 (MaxPooling2 (None, 16, 16, 64)        0         \n",
      "_________________________________________________________________\n",
      "flatten (Flatten)            (None, 16384)             0         \n",
      "_________________________________________________________________\n",
      "dense (Dense)                (None, 128)               2097280   \n",
      "_________________________________________________________________\n",
      "dense_1 (Dense)              (None, 35)                4515      \n",
      "=================================================================\n",
      "Total params: 2,139,363\n",
      "Trainable params: 2,139,363\n",
      "Non-trainable params: 0\n",
      "_________________________________________________________________\n"
     ]
    }
   ],
   "source": [
    "cnn.summary()"
   ]
  },
  {
   "cell_type": "code",
   "execution_count": 10,
   "id": "4512182c",
   "metadata": {},
   "outputs": [
    {
     "name": "stdout",
     "output_type": "stream",
     "text": [
      "Epoch 1/10\n",
      "694/694 [==============================] - 243s 349ms/step - loss: 1.0192 - accuracy: 0.0285 - val_loss: 0.9749 - val_accuracy: 0.0289\n",
      "Epoch 2/10\n",
      "694/694 [==============================] - 233s 335ms/step - loss: 0.9723 - accuracy: 0.0285 - val_loss: 0.9747 - val_accuracy: 0.0289\n",
      "Epoch 3/10\n",
      "694/694 [==============================] - 230s 332ms/step - loss: 0.9725 - accuracy: 0.0283 - val_loss: 0.9749 - val_accuracy: 0.0280\n",
      "Epoch 4/10\n",
      "694/694 [==============================] - 223s 322ms/step - loss: 0.9723 - accuracy: 0.0285 - val_loss: 0.9748 - val_accuracy: 0.0280\n",
      "Epoch 5/10\n",
      "694/694 [==============================] - 228s 329ms/step - loss: 0.4318 - accuracy: 0.0189 - val_loss: 0.3505 - val_accuracy: 0.0077\n",
      "Epoch 6/10\n",
      "694/694 [==============================] - 230s 331ms/step - loss: 0.3478 - accuracy: 0.0238 - val_loss: 0.3503 - val_accuracy: 0.0429\n",
      "Epoch 7/10\n",
      "694/694 [==============================] - 231s 332ms/step - loss: 0.3477 - accuracy: 0.0266 - val_loss: 0.3503 - val_accuracy: 0.0361\n",
      "Epoch 8/10\n",
      "694/694 [==============================] - 228s 329ms/step - loss: 0.3477 - accuracy: 0.0272 - val_loss: 0.3503 - val_accuracy: 0.0142\n",
      "Epoch 9/10\n",
      "694/694 [==============================] - 229s 330ms/step - loss: 0.3477 - accuracy: 0.0292 - val_loss: 0.3503 - val_accuracy: 7.5574e-04\n",
      "Epoch 10/10\n",
      "694/694 [==============================] - 229s 330ms/step - loss: 0.3477 - accuracy: 0.0274 - val_loss: 0.3503 - val_accuracy: 0.0287\n"
     ]
    }
   ],
   "source": [
    "r=cnn.fit(x = ds_train, validation_data = ds_validation, epochs = 10)"
   ]
  },
  {
   "cell_type": "code",
   "execution_count": 1,
   "id": "d134c8c9",
   "metadata": {},
   "outputs": [],
   "source": [
    "\n",
    "loss=[1.0192,0.9723,0.9725,0.9723,0.4318,0.3478,0.3477,0.3477,0.3477,0.3477]\n",
    "val_loss=[0.9749,0.9747,0.9749,0.9748,0.3505,0.3503,0.3503,0.3503,0.3503,0.3503]\n",
    "accuracy=[0.0285,0.0285,0.0283,0.0285,0.0189,0.0283,0.0266,0.0272,0.0292,0.0274]\n",
    "val_accuracy=[0.0289,0.0289,0.0280,0.0077,0.0429,0.0361,0.0142,7.5574e-0,0.0287]"
   ]
  },
  {
   "cell_type": "code",
   "execution_count": 2,
   "id": "6992ae2c",
   "metadata": {},
   "outputs": [
    {
     "data": {
      "image/png": "[encoded data removed]",
      "text/plain": [
       "<Figure size 432x288 with 1 Axes>"
      ]
     },
     "metadata": {
      "needs_background": "light"
     },
     "output_type": "display_data"
    },
    {
     "data": {
      "image/png": "[encoded data removed]",
      "text/plain": [
       "<Figure size 432x288 with 1 Axes>"
      ]
     },
     "metadata": {
      "needs_background": "light"
     },
     "output_type": "display_data"
    },
    {
     "data": {
      "text/plain": [
       "<Figure size 432x288 with 0 Axes>"
      ]
     },
     "metadata": {},
     "output_type": "display_data"
    }
   ],
   "source": [
    "import matplotlib.pyplot as plt\n",
    "plt.plot(loss, label='train loss')\n",
    "plt.plot(val_loss, label='val loss')\n",
    "plt.legend()\n",
    "plt.show()\n",
    "plt.savefig('LossVal_loss')\n",
    "\n",
    "# plot the accuracy\n",
    "plt.plot(accuracy, label='train acc')\n",
    "plt.plot(val_accuracy, label='val acc')\n",
    "plt.legend()\n",
    "plt.show()\n",
    "plt.savefig('AccVal_acc')"
   ]
  },
  {
   "cell_type": "code",
   "execution_count": null,
   "id": "8f6b6eda",
   "metadata": {},
   "outputs": [],
   "source": []
  },
  {
   "cell_type": "code",
   "execution_count": null,
   "id": "ef965751",
   "metadata": {},
   "outputs": [],
   "source": []
  }
 ],
 "metadata": {
  "kernelspec": {
   "display_name": "Python 3 (ipykernel)",
   "language": "python",
   "name": "python3"
  },
  "language_info": {
   "codemirror_mode": {
    "name": "ipython",
    "version": 3
   },
   "file_extension": ".py",
   "mimetype": "text/x-python",
   "name": "python",
   "nbconvert_exporter": "python",
   "pygments_lexer": "ipython3",
   "version": "3.9.7"
  }
 },
 "nbformat": 4,
 "nbformat_minor": 5
}
