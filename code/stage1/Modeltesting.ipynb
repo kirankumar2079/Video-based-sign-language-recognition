{
 "cells": [
  {
   "cell_type": "code",
   "execution_count": 11,
   "id": "d9331853",
   "metadata": {},
   "outputs": [],
   "source": [
    "import tensorflow as tf\n",
    "import os\n",
    "import cv2\n",
    "import numpy as np"
   ]
  },
  {
   "cell_type": "code",
   "execution_count": 12,
   "id": "f0a711c5",
   "metadata": {},
   "outputs": [],
   "source": [
    "mymodel1=tf.keras.models.load_model('saved_model/stage1_flip_01')\n",
    "mymodel2=tf.keras.models.load_model('saved_model/stage1')\n",
    "# mymodel3=tf.keras.models.load_model('saved_model/stage1_02')"
   ]
  },
  {
   "cell_type": "code",
   "execution_count": 13,
   "id": "71bb1a6a",
   "metadata": {},
   "outputs": [
    {
     "name": "stdout",
     "output_type": "stream",
     "text": [
      "C:\\Users\\azhar\\Desktop\\project 3c\\src\\stage1\\images\\dataset\\1001.jpg\n",
      "C:\\Users\\azhar\\Desktop\\project 3c\\src\\stage1\\images\\dataset\\1002.jpg\n",
      "C:\\Users\\azhar\\Desktop\\project 3c\\src\\stage1\\images\\dataset\\1003.jpg\n",
      "C:\\Users\\azhar\\Desktop\\project 3c\\src\\stage1\\images\\dataset\\1004.jpg\n",
      "C:\\Users\\azhar\\Desktop\\project 3c\\src\\stage1\\images\\dataset\\1005.jpg\n",
      "C:\\Users\\azhar\\Desktop\\project 3c\\src\\stage1\\images\\dataset\\1006.jpg\n",
      "C:\\Users\\azhar\\Desktop\\project 3c\\src\\stage1\\images\\dataset\\1007.jpg\n",
      "C:\\Users\\azhar\\Desktop\\project 3c\\src\\stage1\\images\\dataset\\1008.jpg\n",
      "C:\\Users\\azhar\\Desktop\\project 3c\\src\\stage1\\images\\dataset\\1009.jpg\n",
      "C:\\Users\\azhar\\Desktop\\project 3c\\src\\stage1\\images\\dataset\\1010.jpg\n"
     ]
    }
   ],
   "source": [
    "predictdata=[]\n",
    "path=r\"C:\\Users\\azhar\\Desktop\\project 3c\\src\\stage1\\images\\dataset\"\n",
    "os.listdir(path)\n",
    "imagpath=\"\"\n",
    "\n",
    "for i in os.listdir(path):\n",
    "    imgpath=os.path.join(path,i)\n",
    "    print(imgpath)\n",
    "    imgarr=cv2.imread(imgpath,0)\n",
    "    imgarr=cv2.resize(imgarr,(128,128))\n",
    "    predictdata.append(imgarr)"
   ]
  },
  {
   "cell_type": "code",
   "execution_count": 14,
   "id": "363c4392",
   "metadata": {},
   "outputs": [],
   "source": [
    "x=np.array(predictdata)\n",
    "\n",
    "lookup = {0:'1',1:'2',2:'3',3:'4',4:'5',5:'6',\n",
    "          6:'7',7:'8',8:'9',9:'A',10:'B',11:'C',12:'D',13:'E',14:'F',15:'G',\n",
    "          16:'H',17:'I',18:'J',19:'K',20:'L',21:'M',22:'N',23:'O',24:'P',\n",
    "          25:'Q',26:'R',27:'S',28:'T',29:'U',30:'V',31:'W',32:'X',33:'Y',34:'Z'}"
   ]
  },
  {
   "cell_type": "code",
   "execution_count": 15,
   "id": "185e82a9",
   "metadata": {},
   "outputs": [
    {
     "name": "stdout",
     "output_type": "stream",
     "text": [
      "[26913.053512573242, 20663.593292236328]   ['1', '1']\n",
      "[50278.160095214844, 23984.33494567871]   ['2', '2']\n",
      "[32546.08154296875, 32486.282348632812]   ['3', '3']\n",
      "[29165.180206298828, 35007.36618041992]   ['4', '4']\n",
      "[34480.35430908203, 30196.508407592773]   ['5', '5']\n",
      "[21971.454620361328, 27989.97688293457]   ['6', '6']\n",
      "[57980.93032836914, 29609.506607055664]   ['7', '7']\n",
      "[25168.964385986328, 24111.034393310547]   ['8', '8']\n",
      "[28849.733352661133, 28793.991088867188]   ['9', '9']\n",
      "[37121.14715576172, 41535.50720214844]   ['A', 'A']\n"
     ]
    }
   ],
   "source": [
    "y=mymodel1.predict(x)\n",
    "z=mymodel2.predict(x)\n",
    "# y1=mymodel3.predict(x)\n",
    "\n",
    "for i in range(len(y)):\n",
    "    ls=y[i]\n",
    "    ls1=z[i]\n",
    "    \n",
    "    ls11=[ele*1000 for ele in ls]\n",
    "    ls12=[ele*1000 for ele in ls1]\n",
    " \n",
    "    maxalgo=[]\n",
    "    a=[]\n",
    "    a.append(lookup[ls11.index(max(ls11))])\n",
    "    maxalgo.append(max(ls11))\n",
    "    a.append(lookup[ls12.index(max(ls12))])\n",
    "    maxalgo.append(max(ls12))\n",
    "    \n",
    "    print(maxalgo,\" \",a)"
   ]
  },
  {
   "cell_type": "code",
   "execution_count": null,
   "id": "1773a63c",
   "metadata": {},
   "outputs": [],
   "source": []
  }
 ],
 "metadata": {
  "kernelspec": {
   "display_name": "Python 3 (ipykernel)",
   "language": "python",
   "name": "python3"
  },
  "language_info": {
   "codemirror_mode": {
    "name": "ipython",
    "version": 3
   },
   "file_extension": ".py",
   "mimetype": "text/x-python",
   "name": "python",
   "nbconvert_exporter": "python",
   "pygments_lexer": "ipython3",
   "version": "3.8.0"
  }
 },
 "nbformat": 4,
 "nbformat_minor": 5
}
