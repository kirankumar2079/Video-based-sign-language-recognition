{
 "cells": [
  {
   "cell_type": "code",
   "execution_count": 2,
   "id": "82c7fa63",
   "metadata": {},
   "outputs": [],
   "source": [
    "import cv2\n",
    "import os\n",
    "import numpy as np\n",
    "from matplotlib import pyplot as plt\n",
    "import matplotlib.image as mpimg"
   ]
  },
  {
   "cell_type": "code",
   "execution_count": 52,
   "id": "26103ec2",
   "metadata": {},
   "outputs": [],
   "source": [
    "frompath=r\"imagedataset/train/X\"\n",
    "\n",
    "\n",
    "dir1=os.listdir(frompath)\n",
    "filename=1001\n",
    "for img in dir1:\n",
    "    imgpath=os.path.join(frompath+'/',img)\n",
    "    realimg=cv2.imread(imgpath)\n",
    "    flipimg=cv2.flip(realimg,1)\n",
    "    filerealname=str(filename)+\".jpg\"\n",
    "    cv2.imwrite(filerealname,flipimg)\n",
    "    filename+=1\n",
    "        \n",
    "        \n",
    "        \n",
    "        \n",
    "# path=r'C:\\Users\\KIRAN KUMAR\\Desktop\\Project\\src\\stage1'\n",
    "# os.chdir(path)\n",
    "# img=mpimg.imread(\"1001.jpg\")\n",
    "# image = cv2.flip(img, 1)\n",
    "# plt.imshow(image)\n",
    "# dir=r\"C:\\Users\\KIRAN KUMAR\\Desktop\\Project\\src\\stage1\\customdatset\\todir\"\n",
    "# os.chdir(dir)\n",
    "# print(os.listdir(dir))\n",
    "# print(os.getcwd())\n",
    "\n",
    "# cv2.imwrite(\"f1001.jpg\", image)\n",
    "#for img in os.listdir(frompath):\n",
    "   # path=os.path.join(frompath+'\\\\',img)\n",
    "    #print(path)\n"
   ]
  },
  {
   "cell_type": "code",
   "execution_count": null,
   "id": "3fad3f6d",
   "metadata": {},
   "outputs": [],
   "source": []
  },
  {
   "cell_type": "code",
   "execution_count": null,
   "id": "69ae5b6c",
   "metadata": {},
   "outputs": [],
   "source": []
  },
  {
   "cell_type": "code",
   "execution_count": null,
   "id": "5128f0e8",
   "metadata": {},
   "outputs": [],
   "source": []
  },
  {
   "cell_type": "code",
   "execution_count": null,
   "id": "34d2b037",
   "metadata": {},
   "outputs": [],
   "source": []
  }
 ],
 "metadata": {
  "kernelspec": {
   "display_name": "Python 3 (ipykernel)",
   "language": "python",
   "name": "python3"
  },
  "language_info": {
   "codemirror_mode": {
    "name": "ipython",
    "version": 3
   },
   "file_extension": ".py",
   "mimetype": "text/x-python",
   "name": "python",
   "nbconvert_exporter": "python",
   "pygments_lexer": "ipython3",
   "version": "3.8.0"
  }
 },
 "nbformat": 4,
 "nbformat_minor": 5
}
